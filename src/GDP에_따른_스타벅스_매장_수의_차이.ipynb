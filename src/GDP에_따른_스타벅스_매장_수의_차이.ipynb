{
  "cells": [
    {
      "cell_type": "markdown",
      "metadata": {
        "id": "if0Vuh76Vsfh"
      },
      "source": [
        "# 국가별 GDP와 스타벅스 매장수의 상관관계 분석\n",
        "Differences between Starbucks Stores by Gross Domestic Product\n",
        "\n",
        "Kaggle에 업로드된 2017년 기준 국가별 스타벅스 매장의 개수를 정리하여 올려둔 데이터셋과 OECD 에서 직접 제공하고 있는 국가별 GDP 데이터를 활용하여 스타벅스 매장 수와 GDP 연계성을 찾아보는 것이 이번 프로젝트의 주 목적이다.\n",
        "\n",
        "## 기여자\n",
        "- 김연규 ([Github](https://github.com/code-yeongyu)) : 데이터 전처리 담당\n",
        "- 박인성 ([Gihtub](https://github.com/insung3511])) : 데이터 분석 및 보고서 작성"
      ]
    },
    {
      "cell_type": "markdown",
      "metadata": {
        "id": "5g27qrryWXZF"
      },
      "source": [
        "# 목차\n",
        "1. 데이터셋 파악\n",
        "2. 가설\n",
        "3. 데이터 전처리\n",
        "4. 데이터 분석\n",
        "5. 최종 분석\n",
        "6. 마무리"
      ]
    },
    {
      "cell_type": "markdown",
      "metadata": {
        "id": "3hxaCM1BW399"
      },
      "source": [
        "# 1. 데이터셋 파악\n",
        "## 1-1. 데이터셋의 각 출처\n",
        "Starbucks Locations Dataset : https://www.kaggle.com/starbucks/store-locations\n",
        "Gross Domestic Product (GDP) : https://data.oecd.org/gdp/gross-domestic-product-gdp.htm\n",
        "\n",
        "## 1-1-1. 스타벅스 데이터셋의 각 컬럼별 분석\n",
        "- Brand : 각 스타벅스 매장별 브랜드 (스타벅스가 인수한 매장도 포함됨)\n",
        "- Store Number : 각 스타벅스 매장별 고유 번호\n",
        "- Store Name : 각 스타벅스 매장별 이름 (ex 스타벅스 남영점)\n",
        "- Street Address : 각 스타벅스 매장 위치\n",
        "- City : 각 스타벅스 매장의 도시 위치\n",
        "- State/Province : 각 스타벅스 매장의 주\n",
        "- Country : 각 스타벅스 매장이 위치한 국가\n",
        "- Postcode : 각 스타벅스 매장별 우편번호\n",
        "- Timezone : 각 스타벅스 매장별 시간대\n",
        "- Longitude : 각 스타벅스 매장별 경도 좌표\n",
        "- Latitude : 각 스타벅스 매장별 위도 좌표\n",
        "\n",
        "## 1-1-2. GDP 데이터셋의 각 칼럼별 분석\n",
        "- LOCATION : 국가\n",
        "- INDICATOR : 경제 지표\n",
        "- SUBJECT : 계요\n",
        "- MEASURE : GDP 측정 단위\n",
        "- FREQUENCY : **확인불가**\n",
        "- TIME : 데이터 시간별\n",
        "- Value : 각 국가별 실질적 GDP 값 (단위 : USD)\n",
        "- Flag Codes : **확인불가**"
      ]
    },
    {
      "cell_type": "markdown",
      "metadata": {
        "id": "bThr-MrSbFuJ"
      },
      "source": [
        "# 2. 가설\n",
        "- GDP가 높을수록 스타벅스 매장 수가 많을 것이다.\n",
        "- 반대로 GDP가 낮을수록 스타벅스 매장 수는 적을 것이다.\n",
        "\n",
        "# 2-1. 의문\n",
        "- 국가 내에 한 도시에만 스타벅스가 밀집 되어 있는가?\n",
        "- 아시아권 국가와 미국/유럽권 국가에서의 스타벅스 매장 차이는 얼마나 차이가 나는가"
      ]
    },
    {
      "cell_type": "markdown",
      "metadata": {
        "id": "0d_qZf2LdF1O"
      },
      "source": [
        "-----\n",
        "# 3. 데이터 전처리"
      ]
    },
    {
      "cell_type": "markdown",
      "metadata": {
        "id": "b8g5n7WigGXj"
      },
      "source": [
        "## 데이터셋 배경\n",
        "### GDP Dataset\n",
        "GDP 데이터셋은 OECD에서 공개하고 있는 데이터셋이다. 시기는 스타벅스 데이터셋에 맞게 2017년으로 지정을 하였다. \n",
        "\n",
        "### Starbucks Dataset\n",
        "데이터셋에서는 2017년까지 운영되고 있는 **매장의 수는 25,364 개**의 매장을 운영하였으며 운영되고 있는 매장 중에서 47%는 본사 직영 매장이고 37%는 계약을 통한 운영이 되고 있으며 나머지 17%는 여러 방면으로 운영이 되고 있다. \n",
        "\n",
        "현재 이 데이터셋에서는 스타벅스가 인수한 회사인 Teavana 도 포함이 되어 있지만 그에 데이터셋은 1% 이하의 매장을 소유하고 있기 때문에 프로젝트 진행에 큰 문제가 되진 않는다. 또한 Teavana도 스타벅스의 매장에 포함이 되기 때문에 합산하는 것이 맞다고 판단 되었다.\n"
      ]
    },
    {
      "cell_type": "markdown",
      "metadata": {
        "id": "XGW8cTfeZR5C"
      },
      "source": [
        "데이터 분석을 위한 Pandas 모듈을 끌어오며, country_converter 모듈을 활용하여 Starbucks 데이터셋과 GDP 데이터셋에서의 국가의 데이터의 차이점을 잡아준다. Starbucks 데이터셋에서 국가가 KR 로 되어있다면 GDP 데이터셋에서는 KOR 와 같이 되어 있어 이를 잡아주는 과정이 필요하다. 이를 country_converter 모듈을 활용하여 하나로 통일해준다.\n",
        "\n",
        "코드를 실행전 country_converter 모듈과 데이터셋을 wget 명령어와 pip 명령어를 통해서 다운로드 및 설치가 필요하다. 그에 해당하는 명령어는 아래와 동일하다."
      ]
    },
    {
      "cell_type": "code",
      "execution_count": null,
      "metadata": {
        "colab": {
          "base_uri": "https://localhost:8080/"
        },
        "id": "pnhKghVjbmWy",
        "outputId": "1a8b7ac0-7a46-4a9e-ab60-471db6b2304a"
      },
      "outputs": [
        {
          "name": "stdout",
          "output_type": "stream",
          "text": [
            "Requirement already satisfied: country-converter in /usr/local/lib/python3.7/dist-packages (0.7.3)\n",
            "Requirement already satisfied: pandas>=1.0 in /usr/local/lib/python3.7/dist-packages (from country-converter) (1.1.5)\n",
            "Requirement already satisfied: pytz>=2017.2 in /usr/local/lib/python3.7/dist-packages (from pandas>=1.0->country-converter) (2018.9)\n",
            "Requirement already satisfied: python-dateutil>=2.7.3 in /usr/local/lib/python3.7/dist-packages (from pandas>=1.0->country-converter) (2.8.1)\n",
            "Requirement already satisfied: numpy>=1.15.4 in /usr/local/lib/python3.7/dist-packages (from pandas>=1.0->country-converter) (1.19.5)\n",
            "Requirement already satisfied: six>=1.5 in /usr/local/lib/python3.7/dist-packages (from python-dateutil>=2.7.3->pandas>=1.0->country-converter) (1.15.0)\n",
            "Requirement already satisfied: pycountry-convert in /usr/local/lib/python3.7/dist-packages (0.7.2)\n",
            "Requirement already satisfied: pprintpp>=0.3.0 in /usr/local/lib/python3.7/dist-packages (from pycountry-convert) (0.4.0)\n",
            "Requirement already satisfied: pytest>=3.4.0 in /usr/local/lib/python3.7/dist-packages (from pycountry-convert) (3.6.4)\n",
            "Requirement already satisfied: pytest-cov>=2.5.1 in /usr/local/lib/python3.7/dist-packages (from pycountry-convert) (2.12.1)\n",
            "Requirement already satisfied: pycountry>=16.11.27.1 in /usr/local/lib/python3.7/dist-packages (from pycountry-convert) (20.7.3)\n",
            "Requirement already satisfied: pytest-mock>=1.6.3 in /usr/local/lib/python3.7/dist-packages (from pycountry-convert) (3.6.1)\n",
            "Requirement already satisfied: repoze.lru>=0.7 in /usr/local/lib/python3.7/dist-packages (from pycountry-convert) (0.7)\n",
            "Requirement already satisfied: wheel>=0.30.0 in /usr/local/lib/python3.7/dist-packages (from pycountry-convert) (0.36.2)\n",
            "Requirement already satisfied: pluggy<0.8,>=0.5 in /usr/local/lib/python3.7/dist-packages (from pytest>=3.4.0->pycountry-convert) (0.7.1)\n",
            "Requirement already satisfied: six>=1.10.0 in /usr/local/lib/python3.7/dist-packages (from pytest>=3.4.0->pycountry-convert) (1.15.0)\n",
            "Requirement already satisfied: py>=1.5.0 in /usr/local/lib/python3.7/dist-packages (from pytest>=3.4.0->pycountry-convert) (1.10.0)\n",
            "Requirement already satisfied: more-itertools>=4.0.0 in /usr/local/lib/python3.7/dist-packages (from pytest>=3.4.0->pycountry-convert) (8.8.0)\n",
            "Requirement already satisfied: atomicwrites>=1.0 in /usr/local/lib/python3.7/dist-packages (from pytest>=3.4.0->pycountry-convert) (1.4.0)\n",
            "Requirement already satisfied: setuptools in /usr/local/lib/python3.7/dist-packages (from pytest>=3.4.0->pycountry-convert) (57.0.0)\n",
            "Requirement already satisfied: attrs>=17.4.0 in /usr/local/lib/python3.7/dist-packages (from pytest>=3.4.0->pycountry-convert) (21.2.0)\n",
            "Requirement already satisfied: toml in /usr/local/lib/python3.7/dist-packages (from pytest-cov>=2.5.1->pycountry-convert) (0.10.2)\n",
            "Requirement already satisfied: coverage>=5.2.1 in /usr/local/lib/python3.7/dist-packages (from pytest-cov>=2.5.1->pycountry-convert) (5.5)\n",
            "Requirement already satisfied: squarify in /usr/local/lib/python3.7/dist-packages (0.4.3)\n",
            "Requirement already satisfied: folium in /usr/local/lib/python3.7/dist-packages (0.8.3)\n",
            "Requirement already satisfied: six in /usr/local/lib/python3.7/dist-packages (from folium) (1.15.0)\n",
            "Requirement already satisfied: requests in /usr/local/lib/python3.7/dist-packages (from folium) (2.23.0)\n",
            "Requirement already satisfied: numpy in /usr/local/lib/python3.7/dist-packages (from folium) (1.19.5)\n",
            "Requirement already satisfied: jinja2 in /usr/local/lib/python3.7/dist-packages (from folium) (2.11.3)\n",
            "Requirement already satisfied: branca>=0.3.0 in /usr/local/lib/python3.7/dist-packages (from folium) (0.4.2)\n",
            "Requirement already satisfied: certifi>=2017.4.17 in /usr/local/lib/python3.7/dist-packages (from requests->folium) (2021.5.30)\n",
            "Requirement already satisfied: urllib3!=1.25.0,!=1.25.1,<1.26,>=1.21.1 in /usr/local/lib/python3.7/dist-packages (from requests->folium) (1.24.3)\n",
            "Requirement already satisfied: idna<3,>=2.5 in /usr/local/lib/python3.7/dist-packages (from requests->folium) (2.10)\n",
            "Requirement already satisfied: chardet<4,>=3.0.2 in /usr/local/lib/python3.7/dist-packages (from requests->folium) (3.0.4)\n",
            "Requirement already satisfied: MarkupSafe>=0.23 in /usr/local/lib/python3.7/dist-packages (from jinja2->folium) (2.0.1)\n",
            "Requirement already satisfied: pygal in /usr/local/lib/python3.7/dist-packages (2.4.0)\n"
          ]
        }
      ],
      "source": [
        "!pip install country-converter\n",
        "!pip install pycountry-convert\n",
        "!pip install squarify\n",
        "!pip install folium\n",
        "!pip install pygal"
      ]
    },
    {
      "cell_type": "code",
      "execution_count": null,
      "metadata": {
        "colab": {
          "base_uri": "https://localhost:8080/"
        },
        "id": "pNDmMAWEb_0i",
        "outputId": "ab328d57-c031-4afd-af33-418c5c54dc6b"
      },
      "outputs": [
        {
          "name": "stdout",
          "output_type": "stream",
          "text": [
            "--2021-06-22 14:39:34--  https://raw.githubusercontent.com/code-yeongyu/2021-bigdata-class-report/master/gdp_2017.csv\n",
            "Resolving raw.githubusercontent.com (raw.githubusercontent.com)... 185.199.108.133, 185.199.109.133, 185.199.110.133, ...\n",
            "Connecting to raw.githubusercontent.com (raw.githubusercontent.com)|185.199.108.133|:443... connected.\n",
            "HTTP request sent, awaiting response... 200 OK\n",
            "Length: 3341 (3.3K) [text/plain]\n",
            "Saving to: ‘gdp_2017.csv’\n",
            "\n",
            "\rgdp_2017.csv          0%[                    ]       0  --.-KB/s               \rgdp_2017.csv        100%[===================>]   3.26K  --.-KB/s    in 0s      \n",
            "\n",
            "2021-06-22 14:39:34 (38.7 MB/s) - ‘gdp_2017.csv’ saved [3341/3341]\n",
            "\n",
            "--2021-06-22 14:39:35--  https://raw.githubusercontent.com/code-yeongyu/2021-bigdata-class-report/master/starbucks_2017.csv\n",
            "Resolving raw.githubusercontent.com (raw.githubusercontent.com)... 185.199.111.133, 185.199.110.133, 185.199.108.133, ...\n",
            "Connecting to raw.githubusercontent.com (raw.githubusercontent.com)|185.199.111.133|:443... connected.\n",
            "HTTP request sent, awaiting response... 200 OK\n",
            "Length: 4111462 (3.9M) [text/plain]\n",
            "Saving to: ‘starbucks_2017.csv’\n",
            "\n",
            "starbucks_2017.csv  100%[===================>]   3.92M  --.-KB/s    in 0.1s    \n",
            "\n",
            "2021-06-22 14:39:35 (26.2 MB/s) - ‘starbucks_2017.csv’ saved [4111462/4111462]\n",
            "\n",
            "--2021-06-22 14:39:35--  http://ahh.p-e.kr/real/worldcities.csv\n",
            "Resolving ahh.p-e.kr (ahh.p-e.kr)... 18.188.108.255\n",
            "Connecting to ahh.p-e.kr (ahh.p-e.kr)|18.188.108.255|:80... connected.\n",
            "HTTP request sent, awaiting response... 200 OK\n",
            "Length: 2859311 (2.7M) [text/csv]\n",
            "Saving to: ‘worldcities.csv’\n",
            "\n",
            "worldcities.csv     100%[===================>]   2.73M  10.0MB/s    in 0.3s    \n",
            "\n",
            "2021-06-22 14:39:36 (10.0 MB/s) - ‘worldcities.csv’ saved [2859311/2859311]\n",
            "\n",
            "gdp_2017.csv  sample_data  starbucks_2017.csv  worldcities.csv\n"
          ]
        }
      ],
      "source": [
        "!rm -rf gdp* && rm -rf starbucks* && rm -rf worldcities*\n",
        "!wget https://raw.githubusercontent.com/insung3511/2021-bigdata-class-report/master/dataset/gdp_2017.csv\n",
        "!wget https://raw.githubusercontent.com/insung3511/2021-bigdata-class-report/master/dataset/starbucks_2017.csv\n",
        "!wget https://raw.githubusercontent.com/insung3511/2021-bigdata-class-report/master/dataset/worldcities.csv\n",
        "!ls"
      ]
    },
    {
      "cell_type": "markdown",
      "metadata": {
        "id": "NBDQKeg3JEg5"
      },
      "source": [
        "해주는 김에 이것도 해주자."
      ]
    },
    {
      "cell_type": "code",
      "execution_count": null,
      "metadata": {
        "colab": {
          "base_uri": "https://localhost:8080/"
        },
        "id": "Gk0knTngrSJj",
        "outputId": "e93de60d-57cf-431f-fd9d-eba699ab85d6"
      },
      "outputs": [
        {
          "name": "stdout",
          "output_type": "stream",
          "text": [
            "Reading package lists... Done\n",
            "Building dependency tree       \n",
            "Reading state information... Done\n",
            "fonts-nanum is already the newest version (20170925-1).\n",
            "0 upgraded, 0 newly installed, 0 to remove and 39 not upgraded.\n",
            "/usr/share/fonts: caching, new cache contents: 0 fonts, 1 dirs\n",
            "/usr/share/fonts/truetype: caching, new cache contents: 0 fonts, 3 dirs\n",
            "/usr/share/fonts/truetype/humor-sans: caching, new cache contents: 1 fonts, 0 dirs\n",
            "/usr/share/fonts/truetype/liberation: caching, new cache contents: 16 fonts, 0 dirs\n",
            "/usr/share/fonts/truetype/nanum: caching, new cache contents: 10 fonts, 0 dirs\n",
            "/usr/local/share/fonts: caching, new cache contents: 0 fonts, 0 dirs\n",
            "/root/.local/share/fonts: skipping, no such directory\n",
            "/root/.fonts: skipping, no such directory\n",
            "/var/cache/fontconfig: cleaning cache directory\n",
            "/root/.cache/fontconfig: not cleaning non-existent cache directory\n",
            "/root/.fontconfig: not cleaning non-existent cache directory\n",
            "fc-cache: succeeded\n"
          ]
        }
      ],
      "source": [
        "!sudo apt-get install -y fonts-nanum\n",
        "!sudo fc-cache -fv\n",
        "!rm ~/.cache/matplotlib -rf"
      ]
    },
    {
      "cell_type": "code",
      "execution_count": null,
      "metadata": {
        "id": "_dBGu2T6ZHai"
      },
      "outputs": [],
      "source": [
        "from pycountry_convert import country_alpha2_to_continent_code, country_name_to_country_alpha2\n",
        "from folium.plugins import MarkerCluster\n",
        "from geopy.geocoders import Nominatim\n",
        "import country_converter as coco\n",
        "import matplotlib.pyplot as plt\n",
        "from folium import LayerControl\n",
        "from pygal.style import Style\n",
        "from folium import plugins\n",
        "import squarify as sf\n",
        "import seaborn as sns\n",
        "import pandas as pd\n",
        "import numpy as np\n",
        "import pycountry\n",
        "import random\n",
        "import folium\n",
        "\n",
        "plt.rc('font', family='NanumBarunGothic')  # 한글 폰트 설정\n",
        "plt.rcParams['axes.unicode_minus'] = False  # 마이너스 기호 깨짐 방지"
      ]
    },
    {
      "cell_type": "markdown",
      "metadata": {
        "id": "qkESbwN0Z1QJ"
      },
      "source": [
        "위에 국가 코드 문제를 해결하기 위해 *iso2_to_iso3* 함수를 만들어 2자리로 되어있는 국가 약자를 3자리로 바꿀 함수를 만들어준다."
      ]
    },
    {
      "cell_type": "code",
      "execution_count": null,
      "metadata": {
        "id": "lpVTyMqCdE0C"
      },
      "outputs": [],
      "source": [
        "def iso2_to_iso3(iso2):  # country code converter\n",
        "    return coco.convert(names=[iso2], to='ISO3')"
      ]
    },
    {
      "cell_type": "code",
      "execution_count": null,
      "metadata": {
        "id": "l_oCtgbZZQFA"
      },
      "outputs": [],
      "source": [
        "# read csvs\n",
        "gdp = pd.read_csv(\"./gdp_2017.csv\")\n",
        "starbucks = pd.read_csv(\"./starbucks_2017.csv\")"
      ]
    },
    {
      "cell_type": "markdown",
      "metadata": {
        "id": "FvKUhUYQdU-i"
      },
      "source": [
        "gdp_filtered 는 데이터 분석에서 필요한 전처리를 한 데이터프레임이다.\n",
        "허나 starbucks_filtered는 필요한 정보를 담아온 후에 한번의 더 전처리 과정이 필요하다. 국가별 매장의 수와 국가 코드에 다름에 따라 한번 이를 정리를 해줘야 하기 때문이다. \n",
        "\n",
        "6번 라인에 있는 starbucks_country_code_fixed는 데이터프레임으로 바꾸기 이전의 임시 저장소이다. 7번 라인에서 국가코드의 문제를 해결해주고 8번 라인에서 각 국가별 매장의 수를 확인하는데 매장의 수는 9번 라인에서 for 루프를 통해서 매장의 개수를 세준다.\n",
        "\n",
        "최종적으로 위 과정을 거친 후에는 starbucks_df 로 전처리가 완료된 스타벅스 매장 데이터셋의 최종 결과물이 나오게된다. "
      ]
    },
    {
      "cell_type": "code",
      "execution_count": null,
      "metadata": {
        "id": "30QXJGq_co2s"
      },
      "outputs": [],
      "source": [
        "gdp_df = pd.DataFrame((gdp[['LOCATION', 'Value']]))\n",
        "gdp_df = gdp_df.sort_values(by=['Value'], ascending=False)\n",
        "starbucks_filtered = starbucks.groupby('Country')[['Store Number']].nunique()\n",
        "\n",
        "stores = starbucks_filtered['Store Number']\n",
        "\n",
        "starbucks_country_code_fixed = [{\n",
        "   \"LOCATION\": iso2_to_iso3(key),\n",
        "   \"stores_cnt\": stores[key],\n",
        "} for key in stores.keys()]\n",
        "\n",
        "starbucks_df = pd.DataFrame(starbucks_country_code_fixed)"
      ]
    },
    {
      "cell_type": "markdown",
      "metadata": {
        "id": "UCDSGVqEeVCz"
      },
      "source": [
        "result는 GDP와 starbucks 데이터셋을 합친 최종 결과물이다. 각 국가별 GDP 와 각 국가별 스타벅스 매장의 수이다. \n",
        "\n",
        "출력 기준은 gdp 순으로 출력을 했을때 아래와 같은 결과물을 보게 된다."
      ]
    },
    {
      "cell_type": "code",
      "execution_count": null,
      "metadata": {
        "colab": {
          "base_uri": "https://localhost:8080/",
          "height": 514
        },
        "id": "dYl2Fl6IbSsM",
        "outputId": "c5fb271a-9a33-4501-ddf3-5a9226d0af65"
      },
      "outputs": [
        {
          "data": {
            "text/html": [
              "<div>\n",
              "<style scoped>\n",
              "    .dataframe tbody tr th:only-of-type {\n",
              "        vertical-align: middle;\n",
              "    }\n",
              "\n",
              "    .dataframe tbody tr th {\n",
              "        vertical-align: top;\n",
              "    }\n",
              "\n",
              "    .dataframe thead th {\n",
              "        text-align: right;\n",
              "    }\n",
              "</style>\n",
              "<table border=\"1\" class=\"dataframe\">\n",
              "  <thead>\n",
              "    <tr style=\"text-align: right;\">\n",
              "      <th></th>\n",
              "      <th>LOCATION</th>\n",
              "      <th>Value</th>\n",
              "      <th>stores_cnt</th>\n",
              "    </tr>\n",
              "  </thead>\n",
              "  <tbody>\n",
              "    <tr>\n",
              "      <th>0</th>\n",
              "      <td>LUX</td>\n",
              "      <td>112187.731906</td>\n",
              "      <td>2</td>\n",
              "    </tr>\n",
              "    <tr>\n",
              "      <th>1</th>\n",
              "      <td>SGP</td>\n",
              "      <td>94945.250892</td>\n",
              "      <td>130</td>\n",
              "    </tr>\n",
              "    <tr>\n",
              "      <th>2</th>\n",
              "      <td>IRL</td>\n",
              "      <td>78739.398464</td>\n",
              "      <td>73</td>\n",
              "    </tr>\n",
              "    <tr>\n",
              "      <th>3</th>\n",
              "      <td>CHE</td>\n",
              "      <td>69103.567686</td>\n",
              "      <td>61</td>\n",
              "    </tr>\n",
              "    <tr>\n",
              "      <th>4</th>\n",
              "      <td>NOR</td>\n",
              "      <td>64050.366694</td>\n",
              "      <td>17</td>\n",
              "    </tr>\n",
              "    <tr>\n",
              "      <th>5</th>\n",
              "      <td>USA</td>\n",
              "      <td>60091.568784</td>\n",
              "      <td>13608</td>\n",
              "    </tr>\n",
              "    <tr>\n",
              "      <th>6</th>\n",
              "      <td>DNK</td>\n",
              "      <td>55356.490090</td>\n",
              "      <td>21</td>\n",
              "    </tr>\n",
              "    <tr>\n",
              "      <th>7</th>\n",
              "      <td>NLD</td>\n",
              "      <td>55089.581430</td>\n",
              "      <td>59</td>\n",
              "    </tr>\n",
              "    <tr>\n",
              "      <th>8</th>\n",
              "      <td>AUT</td>\n",
              "      <td>54185.337013</td>\n",
              "      <td>18</td>\n",
              "    </tr>\n",
              "    <tr>\n",
              "      <th>9</th>\n",
              "      <td>DEU</td>\n",
              "      <td>52952.897774</td>\n",
              "      <td>160</td>\n",
              "    </tr>\n",
              "    <tr>\n",
              "      <th>10</th>\n",
              "      <td>SWE</td>\n",
              "      <td>51947.942867</td>\n",
              "      <td>18</td>\n",
              "    </tr>\n",
              "    <tr>\n",
              "      <th>11</th>\n",
              "      <td>AUS</td>\n",
              "      <td>50853.615427</td>\n",
              "      <td>22</td>\n",
              "    </tr>\n",
              "    <tr>\n",
              "      <th>12</th>\n",
              "      <td>BEL</td>\n",
              "      <td>50442.947518</td>\n",
              "      <td>19</td>\n",
              "    </tr>\n",
              "    <tr>\n",
              "      <th>13</th>\n",
              "      <td>CAN</td>\n",
              "      <td>48316.716527</td>\n",
              "      <td>1468</td>\n",
              "    </tr>\n",
              "    <tr>\n",
              "      <th>14</th>\n",
              "      <td>SAU</td>\n",
              "      <td>47862.022249</td>\n",
              "      <td>102</td>\n",
              "    </tr>\n",
              "  </tbody>\n",
              "</table>\n",
              "</div>"
            ],
            "text/plain": [
              "   LOCATION          Value  stores_cnt\n",
              "0       LUX  112187.731906           2\n",
              "1       SGP   94945.250892         130\n",
              "2       IRL   78739.398464          73\n",
              "3       CHE   69103.567686          61\n",
              "4       NOR   64050.366694          17\n",
              "5       USA   60091.568784       13608\n",
              "6       DNK   55356.490090          21\n",
              "7       NLD   55089.581430          59\n",
              "8       AUT   54185.337013          18\n",
              "9       DEU   52952.897774         160\n",
              "10      SWE   51947.942867          18\n",
              "11      AUS   50853.615427          22\n",
              "12      BEL   50442.947518          19\n",
              "13      CAN   48316.716527        1468\n",
              "14      SAU   47862.022249         102"
            ]
          },
          "execution_count": 31,
          "metadata": {
            "tags": []
          },
          "output_type": "execute_result"
        }
      ],
      "source": [
        "result = pd.merge(\n",
        "    gdp_df,\n",
        "    starbucks_df,\n",
        "    left_on='LOCATION',\n",
        "    right_on='LOCATION',\n",
        "    how='inner',\n",
        ")\n",
        "\n",
        "# nation\n",
        "result = result.sort_values(by=['Value'], ascending=False)\n",
        "result.head(15)"
      ]
    },
    {
      "cell_type": "markdown",
      "metadata": {
        "id": "OiVXWKd9fBGh"
      },
      "source": [
        "각 도시별 기준으로 스타벅스의 매장수의 숫자를 구하게 되면 다음과 같은 결과가 나오게 된다."
      ]
    },
    {
      "cell_type": "code",
      "execution_count": null,
      "metadata": {
        "colab": {
          "base_uri": "https://localhost:8080/",
          "height": 390
        },
        "id": "mn4tZJ5ge0rT",
        "outputId": "06d9245a-9164-4978-902a-46429a4fcceb"
      },
      "outputs": [
        {
          "data": {
            "text/html": [
              "<div>\n",
              "<style scoped>\n",
              "    .dataframe tbody tr th:only-of-type {\n",
              "        vertical-align: middle;\n",
              "    }\n",
              "\n",
              "    .dataframe tbody tr th {\n",
              "        vertical-align: top;\n",
              "    }\n",
              "\n",
              "    .dataframe thead th {\n",
              "        text-align: right;\n",
              "    }\n",
              "</style>\n",
              "<table border=\"1\" class=\"dataframe\">\n",
              "  <thead>\n",
              "    <tr style=\"text-align: right;\">\n",
              "      <th></th>\n",
              "      <th>Store Number</th>\n",
              "    </tr>\n",
              "    <tr>\n",
              "      <th>City</th>\n",
              "      <th></th>\n",
              "    </tr>\n",
              "  </thead>\n",
              "  <tbody>\n",
              "    <tr>\n",
              "      <th>上海市</th>\n",
              "      <td>542</td>\n",
              "    </tr>\n",
              "    <tr>\n",
              "      <th>Seoul</th>\n",
              "      <td>242</td>\n",
              "    </tr>\n",
              "    <tr>\n",
              "      <th>北京市</th>\n",
              "      <td>234</td>\n",
              "    </tr>\n",
              "    <tr>\n",
              "      <th>New York</th>\n",
              "      <td>232</td>\n",
              "    </tr>\n",
              "    <tr>\n",
              "      <th>London</th>\n",
              "      <td>216</td>\n",
              "    </tr>\n",
              "    <tr>\n",
              "      <th>Toronto</th>\n",
              "      <td>192</td>\n",
              "    </tr>\n",
              "    <tr>\n",
              "      <th>Mexico City</th>\n",
              "      <td>180</td>\n",
              "    </tr>\n",
              "    <tr>\n",
              "      <th>Chicago</th>\n",
              "      <td>180</td>\n",
              "    </tr>\n",
              "    <tr>\n",
              "      <th>Seattle</th>\n",
              "      <td>156</td>\n",
              "    </tr>\n",
              "    <tr>\n",
              "      <th>Las Vegas</th>\n",
              "      <td>156</td>\n",
              "    </tr>\n",
              "  </tbody>\n",
              "</table>\n",
              "</div>"
            ],
            "text/plain": [
              "             Store Number\n",
              "City                     \n",
              "上海市                   542\n",
              "Seoul                 242\n",
              "北京市                   234\n",
              "New York              232\n",
              "London                216\n",
              "Toronto               192\n",
              "Mexico City           180\n",
              "Chicago               180\n",
              "Seattle               156\n",
              "Las Vegas             156"
            ]
          },
          "execution_count": 32,
          "metadata": {
            "tags": []
          },
          "output_type": "execute_result"
        }
      ],
      "source": [
        "\n",
        "# city\n",
        "starbucks_city = starbucks.groupby('City')[['Store Number']].nunique()\n",
        "starbucks_city = starbucks_city.sort_values(by=['Store Number'], ascending=False)\n",
        "starbucks_city = pd.DataFrame(starbucks_city)\n",
        "\n",
        "starbucks_city.head(10)"
      ]
    },
    {
      "cell_type": "markdown",
      "metadata": {
        "id": "WWsao-ayi-L6"
      },
      "source": [
        "## 가장 스타벅스가 많은 국가는 어디인가?"
      ]
    },
    {
      "cell_type": "code",
      "execution_count": null,
      "metadata": {
        "colab": {
          "base_uri": "https://localhost:8080/",
          "height": 514
        },
        "id": "uFpoUr2ZjFsG",
        "outputId": "24e1e93d-0419-4578-ee81-a01a40f61631"
      },
      "outputs": [
        {
          "data": {
            "text/html": [
              "<div>\n",
              "<style scoped>\n",
              "    .dataframe tbody tr th:only-of-type {\n",
              "        vertical-align: middle;\n",
              "    }\n",
              "\n",
              "    .dataframe tbody tr th {\n",
              "        vertical-align: top;\n",
              "    }\n",
              "\n",
              "    .dataframe thead th {\n",
              "        text-align: right;\n",
              "    }\n",
              "</style>\n",
              "<table border=\"1\" class=\"dataframe\">\n",
              "  <thead>\n",
              "    <tr style=\"text-align: right;\">\n",
              "      <th></th>\n",
              "      <th>LOCATION</th>\n",
              "      <th>Value</th>\n",
              "      <th>stores_cnt</th>\n",
              "    </tr>\n",
              "  </thead>\n",
              "  <tbody>\n",
              "    <tr>\n",
              "      <th>5</th>\n",
              "      <td>USA</td>\n",
              "      <td>60091.568784</td>\n",
              "      <td>13608</td>\n",
              "    </tr>\n",
              "    <tr>\n",
              "      <th>39</th>\n",
              "      <td>CHN</td>\n",
              "      <td>14306.396116</td>\n",
              "      <td>2734</td>\n",
              "    </tr>\n",
              "    <tr>\n",
              "      <th>13</th>\n",
              "      <td>CAN</td>\n",
              "      <td>48316.716527</td>\n",
              "      <td>1468</td>\n",
              "    </tr>\n",
              "    <tr>\n",
              "      <th>19</th>\n",
              "      <td>JPN</td>\n",
              "      <td>40992.393230</td>\n",
              "      <td>1237</td>\n",
              "    </tr>\n",
              "    <tr>\n",
              "      <th>20</th>\n",
              "      <td>KOR</td>\n",
              "      <td>40957.347064</td>\n",
              "      <td>992</td>\n",
              "    </tr>\n",
              "    <tr>\n",
              "      <th>16</th>\n",
              "      <td>GBR</td>\n",
              "      <td>45757.778123</td>\n",
              "      <td>901</td>\n",
              "    </tr>\n",
              "    <tr>\n",
              "      <th>36</th>\n",
              "      <td>MEX</td>\n",
              "      <td>19947.197691</td>\n",
              "      <td>579</td>\n",
              "    </tr>\n",
              "    <tr>\n",
              "      <th>29</th>\n",
              "      <td>TUR</td>\n",
              "      <td>28193.061398</td>\n",
              "      <td>326</td>\n",
              "    </tr>\n",
              "    <tr>\n",
              "      <th>41</th>\n",
              "      <td>IDN</td>\n",
              "      <td>11050.882373</td>\n",
              "      <td>268</td>\n",
              "    </tr>\n",
              "    <tr>\n",
              "      <th>9</th>\n",
              "      <td>DEU</td>\n",
              "      <td>52952.897774</td>\n",
              "      <td>160</td>\n",
              "    </tr>\n",
              "    <tr>\n",
              "      <th>17</th>\n",
              "      <td>FRA</td>\n",
              "      <td>44480.722199</td>\n",
              "      <td>132</td>\n",
              "    </tr>\n",
              "    <tr>\n",
              "      <th>1</th>\n",
              "      <td>SGP</td>\n",
              "      <td>94945.250892</td>\n",
              "      <td>130</td>\n",
              "    </tr>\n",
              "    <tr>\n",
              "      <th>31</th>\n",
              "      <td>RUS</td>\n",
              "      <td>25926.431403</td>\n",
              "      <td>109</td>\n",
              "    </tr>\n",
              "    <tr>\n",
              "      <th>33</th>\n",
              "      <td>ARG</td>\n",
              "      <td>23597.117759</td>\n",
              "      <td>108</td>\n",
              "    </tr>\n",
              "    <tr>\n",
              "      <th>37</th>\n",
              "      <td>BRA</td>\n",
              "      <td>14596.889676</td>\n",
              "      <td>102</td>\n",
              "    </tr>\n",
              "  </tbody>\n",
              "</table>\n",
              "</div>"
            ],
            "text/plain": [
              "   LOCATION         Value  stores_cnt\n",
              "5       USA  60091.568784       13608\n",
              "39      CHN  14306.396116        2734\n",
              "13      CAN  48316.716527        1468\n",
              "19      JPN  40992.393230        1237\n",
              "20      KOR  40957.347064         992\n",
              "16      GBR  45757.778123         901\n",
              "36      MEX  19947.197691         579\n",
              "29      TUR  28193.061398         326\n",
              "41      IDN  11050.882373         268\n",
              "9       DEU  52952.897774         160\n",
              "17      FRA  44480.722199         132\n",
              "1       SGP  94945.250892         130\n",
              "31      RUS  25926.431403         109\n",
              "33      ARG  23597.117759         108\n",
              "37      BRA  14596.889676         102"
            ]
          },
          "execution_count": 33,
          "metadata": {
            "tags": []
          },
          "output_type": "execute_result"
        }
      ],
      "source": [
        "result = result.sort_values(by=['stores_cnt'], ascending=False)\n",
        "result.head(15)"
      ]
    },
    {
      "cell_type": "code",
      "execution_count": null,
      "metadata": {
        "colab": {
          "base_uri": "https://localhost:8080/",
          "height": 446
        },
        "id": "GyMD5WuKk9dv",
        "outputId": "60cbac4c-fb26-4b0e-d6ce-149fc77ffe29"
      },
      "outputs": [
        {
          "data": {
            "image/png": "[encoded data removed]",
            "text/plain": [
              "<Figure size 504x864 with 1 Axes>"
            ]
          },
          "metadata": {
            "tags": []
          },
          "output_type": "display_data"
        }
      ],
      "source": [
        "result_for_pie = result.drop(result.index[13:])\n",
        "\n",
        "plt.title('스타벅스가 가장 많은 국가는 어디인가?', fontsize=22)\n",
        "plt.rcParams['figure.figsize'] = [7, 12]\n",
        "plt.pie(result_for_pie['stores_cnt'].to_numpy().tolist(), labels=result_for_pie['LOCATION'].to_numpy().tolist(),  autopct=\"%.1f%%\", textprops={'fontsize': 15})\n",
        "plt.show()"
      ]
    },
    {
      "cell_type": "markdown",
      "metadata": {
        "id": "2JeCSOzKtY3s"
      },
      "source": [
        "## 가장 스타벅스가 많은 도시는 어디인가?\n"
      ]
    },
    {
      "cell_type": "code",
      "execution_count": null,
      "metadata": {
        "colab": {
          "base_uri": "https://localhost:8080/",
          "height": 446
        },
        "id": "HcQe7U7btHqc",
        "outputId": "18a03a2d-68b2-4bea-a699-01e7f991fc6b"
      },
      "outputs": [
        {
          "data": {
            "image/png": "[encoded data removed]",
            "text/plain": [
              "<Figure size 504x864 with 1 Axes>"
            ]
          },
          "metadata": {
            "tags": []
          },
          "output_type": "display_data"
        }
      ],
      "source": [
        "#starbucks_city.head()\n",
        "city_result_for_pie = starbucks_city.drop(starbucks_city.index[13:])\n",
        "city_result_for_pie['City'] = city_result_for_pie.index\n",
        "city_result_for_pie.head()\n",
        "\n",
        "plt.title('스타벅스가 가장 많은 국가는 어디인가?', fontsize=22)\n",
        "plt.rcParams['figure.figsize'] = [7, 12]\n",
        "plt.pie((city_result_for_pie['Store Number'].to_numpy().tolist()), labels=(city_result_for_pie['City']).to_list(),  autopct=\"%.1f%%\", textprops={'fontsize': 15})\n",
        "plt.show()"
      ]
    },
    {
      "cell_type": "markdown",
      "metadata": {
        "id": "DhNqM0-4aVfo"
      },
      "source": [
        "## 가장 스타벅스가 적은 국가는 어디인가?"
      ]
    },
    {
      "cell_type": "code",
      "execution_count": null,
      "metadata": {
        "colab": {
          "base_uri": "https://localhost:8080/",
          "height": 452
        },
        "id": "pG8ou4MiaZs2",
        "outputId": "69af67ff-cc90-43c9-e2e8-49872dd18a46"
      },
      "outputs": [
        {
          "data": {
            "text/html": [
              "<div>\n",
              "<style scoped>\n",
              "    .dataframe tbody tr th:only-of-type {\n",
              "        vertical-align: middle;\n",
              "    }\n",
              "\n",
              "    .dataframe tbody tr th {\n",
              "        vertical-align: top;\n",
              "    }\n",
              "\n",
              "    .dataframe thead th {\n",
              "        text-align: right;\n",
              "    }\n",
              "</style>\n",
              "<table border=\"1\" class=\"dataframe\">\n",
              "  <thead>\n",
              "    <tr style=\"text-align: right;\">\n",
              "      <th></th>\n",
              "      <th>LOCATION</th>\n",
              "      <th>Value</th>\n",
              "      <th>stores_cnt</th>\n",
              "    </tr>\n",
              "  </thead>\n",
              "  <tbody>\n",
              "    <tr>\n",
              "      <th>0</th>\n",
              "      <td>LUX</td>\n",
              "      <td>112187.731906</td>\n",
              "      <td>2</td>\n",
              "    </tr>\n",
              "    <tr>\n",
              "      <th>40</th>\n",
              "      <td>ZAF</td>\n",
              "      <td>12810.965544</td>\n",
              "      <td>3</td>\n",
              "    </tr>\n",
              "    <tr>\n",
              "      <th>25</th>\n",
              "      <td>SVK</td>\n",
              "      <td>30082.484108</td>\n",
              "      <td>3</td>\n",
              "    </tr>\n",
              "    <tr>\n",
              "      <th>34</th>\n",
              "      <td>BGR</td>\n",
              "      <td>21387.279564</td>\n",
              "      <td>5</td>\n",
              "    </tr>\n",
              "    <tr>\n",
              "      <th>15</th>\n",
              "      <td>FIN</td>\n",
              "      <td>47570.270354</td>\n",
              "      <td>8</td>\n",
              "    </tr>\n",
              "    <tr>\n",
              "      <th>42</th>\n",
              "      <td>MAR</td>\n",
              "      <td>7581.215412</td>\n",
              "      <td>9</td>\n",
              "    </tr>\n",
              "    <tr>\n",
              "      <th>23</th>\n",
              "      <td>CYP</td>\n",
              "      <td>38050.911642</td>\n",
              "      <td>10</td>\n",
              "    </tr>\n",
              "    <tr>\n",
              "      <th>35</th>\n",
              "      <td>CRI</td>\n",
              "      <td>20368.230268</td>\n",
              "      <td>11</td>\n",
              "    </tr>\n",
              "    <tr>\n",
              "      <th>38</th>\n",
              "      <td>COL</td>\n",
              "      <td>14479.812544</td>\n",
              "      <td>11</td>\n",
              "    </tr>\n",
              "    <tr>\n",
              "      <th>24</th>\n",
              "      <td>PRT</td>\n",
              "      <td>33044.700150</td>\n",
              "      <td>11</td>\n",
              "    </tr>\n",
              "    <tr>\n",
              "      <th>27</th>\n",
              "      <td>HUN</td>\n",
              "      <td>29465.126306</td>\n",
              "      <td>16</td>\n",
              "    </tr>\n",
              "    <tr>\n",
              "      <th>4</th>\n",
              "      <td>NOR</td>\n",
              "      <td>64050.366694</td>\n",
              "      <td>17</td>\n",
              "    </tr>\n",
              "    <tr>\n",
              "      <th>8</th>\n",
              "      <td>AUT</td>\n",
              "      <td>54185.337013</td>\n",
              "      <td>18</td>\n",
              "    </tr>\n",
              "  </tbody>\n",
              "</table>\n",
              "</div>"
            ],
            "text/plain": [
              "   LOCATION          Value  stores_cnt\n",
              "0       LUX  112187.731906           2\n",
              "40      ZAF   12810.965544           3\n",
              "25      SVK   30082.484108           3\n",
              "34      BGR   21387.279564           5\n",
              "15      FIN   47570.270354           8\n",
              "42      MAR    7581.215412           9\n",
              "23      CYP   38050.911642          10\n",
              "35      CRI   20368.230268          11\n",
              "38      COL   14479.812544          11\n",
              "24      PRT   33044.700150          11\n",
              "27      HUN   29465.126306          16\n",
              "4       NOR   64050.366694          17\n",
              "8       AUT   54185.337013          18"
            ]
          },
          "execution_count": 75,
          "metadata": {
            "tags": []
          },
          "output_type": "execute_result"
        }
      ],
      "source": [
        "#result_for_pie = result.drop(result.index[13:])\n",
        "less_starbucks_country = result.sort_values(by=['stores_cnt'], ascending=True)\n",
        "less_starbucks_country.head(13)"
      ]
    },
    {
      "cell_type": "code",
      "execution_count": null,
      "metadata": {
        "colab": {
          "base_uri": "https://localhost:8080/",
          "height": 446
        },
        "id": "5r6IlCnHcLMv",
        "outputId": "3d9906d9-1057-4fb8-8f8b-cb7805750724"
      },
      "outputs": [
        {
          "data": {
            "image/png": "[encoded data removed]",
            "text/plain": [
              "<Figure size 504x864 with 1 Axes>"
            ]
          },
          "metadata": {
            "tags": []
          },
          "output_type": "display_data"
        }
      ],
      "source": [
        "less_result_for_pie = less_starbucks_country.drop(less_starbucks_country.index[13:])\n",
        "\n",
        "plt.title('스타벅스가 가장 적은 국가는 어디인가?', fontsize=22)\n",
        "plt.rcParams['figure.figsize'] = [7, 12]\n",
        "plt.pie(less_result_for_pie['stores_cnt'].to_numpy().tolist(), labels=less_result_for_pie['LOCATION'].to_numpy().tolist(),  autopct=\"%.1f%%\", textprops={'fontsize': 15})\n",
        "plt.show()\n"
      ]
    },
    {
      "cell_type": "code",
      "execution_count": null,
      "metadata": {
        "colab": {
          "base_uri": "https://localhost:8080/",
          "height": 738
        },
        "id": "f_sBam1FNmhk",
        "outputId": "81e40f09-769f-4900-e3c4-36b2f8300a48"
      },
      "outputs": [
        {
          "data": {
            "image/png": "[encoded data removed]",
            "text/plain": [
              "<Figure size 504x864 with 1 Axes>"
            ]
          },
          "metadata": {
            "needs_background": "light",
            "tags": []
          },
          "output_type": "display_data"
        }
      ],
      "source": [
        "plt.title('스타벅스가 가장 적은 국가는 어디인가?', fontsize=22)\n",
        "plt.rcParams['figure.figsize'] = [7, 12]\n",
        "plt.xlabel('Country')\n",
        "plt.ylabel('Store Count')\n",
        "plt.bar(less_result_for_pie['LOCATION'].to_numpy().tolist(), less_result_for_pie['stores_cnt'].to_numpy().tolist())\n",
        "plt.show()"
      ]
    },
    {
      "cell_type": "markdown",
      "metadata": {
        "id": "jnMY0q0jdz7i"
      },
      "source": [
        "-----\n",
        "## 4-2. GDP 데이터셋 분석\n",
        "GDP 데이터셋 같은 경우는 칼럼이 많지가 않았다. 필요한 칼럼으로는 국가 칼럼과 각 국가별에 해당되는 GDP 칼럼만 필요하기 때문이다. 때문에 이를 데이터 전처리 과정에서 모두 진행하여 분석 과정에는 크게 건들 필요가 없다.\n"
      ]
    },
    {
      "cell_type": "markdown",
      "metadata": {
        "id": "8CsI7-ryfLJ-"
      },
      "source": [
        "## GDP 경제률이 가장 높은 국가는 어디인가?"
      ]
    },
    {
      "cell_type": "code",
      "execution_count": null,
      "metadata": {
        "colab": {
          "base_uri": "https://localhost:8080/",
          "height": 452
        },
        "id": "bTdUEvdkd21T",
        "outputId": "6eec11e6-94b2-4180-d3db-d1bed4f9ca58"
      },
      "outputs": [
        {
          "data": {
            "text/html": [
              "<div>\n",
              "<style scoped>\n",
              "    .dataframe tbody tr th:only-of-type {\n",
              "        vertical-align: middle;\n",
              "    }\n",
              "\n",
              "    .dataframe tbody tr th {\n",
              "        vertical-align: top;\n",
              "    }\n",
              "\n",
              "    .dataframe thead th {\n",
              "        text-align: right;\n",
              "    }\n",
              "</style>\n",
              "<table border=\"1\" class=\"dataframe\">\n",
              "  <thead>\n",
              "    <tr style=\"text-align: right;\">\n",
              "      <th></th>\n",
              "      <th>LOCATION</th>\n",
              "      <th>Value</th>\n",
              "    </tr>\n",
              "  </thead>\n",
              "  <tbody>\n",
              "    <tr>\n",
              "      <th>16</th>\n",
              "      <td>LUX</td>\n",
              "      <td>112187.731906</td>\n",
              "    </tr>\n",
              "    <tr>\n",
              "      <th>58</th>\n",
              "      <td>SGP</td>\n",
              "      <td>94945.250892</td>\n",
              "    </tr>\n",
              "    <tr>\n",
              "      <th>12</th>\n",
              "      <td>IRL</td>\n",
              "      <td>78739.398464</td>\n",
              "    </tr>\n",
              "    <tr>\n",
              "      <th>26</th>\n",
              "      <td>CHE</td>\n",
              "      <td>69103.567686</td>\n",
              "    </tr>\n",
              "    <tr>\n",
              "      <th>20</th>\n",
              "      <td>NOR</td>\n",
              "      <td>64050.366694</td>\n",
              "    </tr>\n",
              "    <tr>\n",
              "      <th>29</th>\n",
              "      <td>USA</td>\n",
              "      <td>60091.568784</td>\n",
              "    </tr>\n",
              "    <tr>\n",
              "      <th>55</th>\n",
              "      <td>HKG</td>\n",
              "      <td>59846.819225</td>\n",
              "    </tr>\n",
              "    <tr>\n",
              "      <th>11</th>\n",
              "      <td>ISL</td>\n",
              "      <td>55638.491978</td>\n",
              "    </tr>\n",
              "    <tr>\n",
              "      <th>5</th>\n",
              "      <td>DNK</td>\n",
              "      <td>55356.490090</td>\n",
              "    </tr>\n",
              "    <tr>\n",
              "      <th>18</th>\n",
              "      <td>NLD</td>\n",
              "      <td>55089.581430</td>\n",
              "    </tr>\n",
              "    <tr>\n",
              "      <th>1</th>\n",
              "      <td>AUT</td>\n",
              "      <td>54185.337013</td>\n",
              "    </tr>\n",
              "    <tr>\n",
              "      <th>8</th>\n",
              "      <td>DEU</td>\n",
              "      <td>52952.897774</td>\n",
              "    </tr>\n",
              "    <tr>\n",
              "      <th>25</th>\n",
              "      <td>SWE</td>\n",
              "      <td>51947.942867</td>\n",
              "    </tr>\n",
              "  </tbody>\n",
              "</table>\n",
              "</div>"
            ],
            "text/plain": [
              "   LOCATION          Value\n",
              "16      LUX  112187.731906\n",
              "58      SGP   94945.250892\n",
              "12      IRL   78739.398464\n",
              "26      CHE   69103.567686\n",
              "20      NOR   64050.366694\n",
              "29      USA   60091.568784\n",
              "55      HKG   59846.819225\n",
              "11      ISL   55638.491978\n",
              "5       DNK   55356.490090\n",
              "18      NLD   55089.581430\n",
              "1       AUT   54185.337013\n",
              "8       DEU   52952.897774\n",
              "25      SWE   51947.942867"
            ]
          },
          "execution_count": 78,
          "metadata": {
            "tags": []
          },
          "output_type": "execute_result"
        }
      ],
      "source": [
        "gdp_df.head(13)"
      ]
    },
    {
      "cell_type": "code",
      "execution_count": null,
      "metadata": {
        "colab": {
          "base_uri": "https://localhost:8080/",
          "height": 738
        },
        "id": "yCItvLXUe69B",
        "outputId": "acebe2f7-82bd-41d6-89da-33e270271df4"
      },
      "outputs": [
        {
          "data": {
            "image/png": "[encoded data removed]",
            "text/plain": [
              "<Figure size 504x864 with 1 Axes>"
            ]
          },
          "metadata": {
            "needs_background": "light",
            "tags": []
          },
          "output_type": "display_data"
        }
      ],
      "source": [
        "gdp_for_bar = gdp_df.drop(gdp_df.index[13:])\n",
        "\n",
        "plt.title('GDP 경제률이 가장 높은 국가는 어디인가?', fontsize=22)\n",
        "plt.xlabel('Country')\n",
        "plt.ylabel('Value of GDP (USD)')\n",
        "plt.bar(gdp_for_bar['LOCATION'].to_numpy().tolist(), gdp_for_bar['Value'].to_numpy().tolist())\n",
        "plt.show()"
      ]
    },
    {
      "cell_type": "code",
      "execution_count": null,
      "metadata": {
        "colab": {
          "base_uri": "https://localhost:8080/",
          "height": 724
        },
        "id": "mD1NNQqVhUqo",
        "outputId": "ed424603-1230-4f4c-c9f6-af1f13898165"
      },
      "outputs": [
        {
          "data": {
            "image/png": "[encoded data removed]",
            "text/plain": [
              "<Figure size 504x864 with 1 Axes>"
            ]
          },
          "metadata": {
            "needs_background": "light",
            "tags": []
          },
          "output_type": "display_data"
        }
      ],
      "source": [
        "gdp_for_bar = gdp_df.drop(gdp_df.index[13:])\n",
        "\n",
        "plt_color = []\n",
        "\n",
        "rgbl=[255,0,0]\n",
        "\n",
        "plt.title('GDP 경제률이 가장 높은 국가는 어디인가?', fontsize=22)\n",
        "sf.plot(sizes=gdp_for_bar['Value'].to_numpy().tolist(), \n",
        "        label=gdp_for_bar['LOCATION'].to_numpy().tolist(),\n",
        "        color=random.shuffle(rgbl),\n",
        "        alpha=0.7)\n",
        "plt.axis()\n",
        "plt.show()"
      ]
    },
    {
      "cell_type": "markdown",
      "metadata": {
        "id": "cOfctSZeXkmp"
      },
      "source": [
        "## GDP 경제률이 가장 높은 국가는 어디인가?"
      ]
    },
    {
      "cell_type": "code",
      "execution_count": null,
      "metadata": {
        "colab": {
          "base_uri": "https://localhost:8080/",
          "height": 452
        },
        "id": "vbnBee8rXnN0",
        "outputId": "d56723cc-3e32-4d55-d12b-954697c94d3b"
      },
      "outputs": [
        {
          "data": {
            "text/html": [
              "<div>\n",
              "<style scoped>\n",
              "    .dataframe tbody tr th:only-of-type {\n",
              "        vertical-align: middle;\n",
              "    }\n",
              "\n",
              "    .dataframe tbody tr th {\n",
              "        vertical-align: top;\n",
              "    }\n",
              "\n",
              "    .dataframe thead th {\n",
              "        text-align: right;\n",
              "    }\n",
              "</style>\n",
              "<table border=\"1\" class=\"dataframe\">\n",
              "  <thead>\n",
              "    <tr style=\"text-align: right;\">\n",
              "      <th></th>\n",
              "      <th>LOCATION</th>\n",
              "      <th>Value</th>\n",
              "    </tr>\n",
              "  </thead>\n",
              "  <tbody>\n",
              "    <tr>\n",
              "      <th>56</th>\n",
              "      <td>MDG</td>\n",
              "      <td>1601.521574</td>\n",
              "    </tr>\n",
              "    <tr>\n",
              "      <th>54</th>\n",
              "      <td>ZMB</td>\n",
              "      <td>3484.940724</td>\n",
              "    </tr>\n",
              "    <tr>\n",
              "      <th>57</th>\n",
              "      <td>MAR</td>\n",
              "      <td>7581.215412</td>\n",
              "    </tr>\n",
              "    <tr>\n",
              "      <th>34</th>\n",
              "      <td>IDN</td>\n",
              "      <td>11050.882373</td>\n",
              "    </tr>\n",
              "    <tr>\n",
              "      <th>38</th>\n",
              "      <td>ZAF</td>\n",
              "      <td>12810.965544</td>\n",
              "    </tr>\n",
              "    <tr>\n",
              "      <th>31</th>\n",
              "      <td>CHN</td>\n",
              "      <td>14306.396116</td>\n",
              "    </tr>\n",
              "    <tr>\n",
              "      <th>32</th>\n",
              "      <td>COL</td>\n",
              "      <td>14479.812544</td>\n",
              "    </tr>\n",
              "    <tr>\n",
              "      <th>42</th>\n",
              "      <td>BRA</td>\n",
              "      <td>14596.889676</td>\n",
              "    </tr>\n",
              "    <tr>\n",
              "      <th>53</th>\n",
              "      <td>MKD</td>\n",
              "      <td>15706.430869</td>\n",
              "    </tr>\n",
              "    <tr>\n",
              "      <th>17</th>\n",
              "      <td>MEX</td>\n",
              "      <td>19947.197691</td>\n",
              "    </tr>\n",
              "    <tr>\n",
              "      <th>47</th>\n",
              "      <td>CRI</td>\n",
              "      <td>20368.230268</td>\n",
              "    </tr>\n",
              "    <tr>\n",
              "      <th>48</th>\n",
              "      <td>BGR</td>\n",
              "      <td>21387.279564</td>\n",
              "    </tr>\n",
              "    <tr>\n",
              "      <th>46</th>\n",
              "      <td>ARG</td>\n",
              "      <td>23597.117759</td>\n",
              "    </tr>\n",
              "  </tbody>\n",
              "</table>\n",
              "</div>"
            ],
            "text/plain": [
              "   LOCATION         Value\n",
              "56      MDG   1601.521574\n",
              "54      ZMB   3484.940724\n",
              "57      MAR   7581.215412\n",
              "34      IDN  11050.882373\n",
              "38      ZAF  12810.965544\n",
              "31      CHN  14306.396116\n",
              "32      COL  14479.812544\n",
              "42      BRA  14596.889676\n",
              "53      MKD  15706.430869\n",
              "17      MEX  19947.197691\n",
              "47      CRI  20368.230268\n",
              "48      BGR  21387.279564\n",
              "46      ARG  23597.117759"
            ]
          },
          "execution_count": 81,
          "metadata": {
            "tags": []
          },
          "output_type": "execute_result"
        }
      ],
      "source": [
        "small_gdp_df = gdp_df.sort_values(by=['Value'], ascending=True)\n",
        "small_gdp_df.head(13)"
      ]
    },
    {
      "cell_type": "code",
      "execution_count": null,
      "metadata": {
        "colab": {
          "base_uri": "https://localhost:8080/",
          "height": 738
        },
        "id": "R9VCtYjrX7oe",
        "outputId": "c312cb41-1b36-4f2a-d26f-4ada4e60e2f3"
      },
      "outputs": [
        {
          "data": {
            "image/png": "[encoded data removed]",
            "text/plain": [
              "<Figure size 504x864 with 1 Axes>"
            ]
          },
          "metadata": {
            "needs_background": "light",
            "tags": []
          },
          "output_type": "display_data"
        }
      ],
      "source": [
        "small_gdp_for_bar = small_gdp_df.drop(small_gdp_df.index[13:])\n",
        "\n",
        "plt.title('GDP 경제률이 가장 낮은 국가는 어디인가?', fontsize=22)\n",
        "plt.xlabel('Country')\n",
        "plt.ylabel('Value of GDP (USD)')\n",
        "plt.bar(small_gdp_for_bar['LOCATION'].to_numpy().tolist(), small_gdp_for_bar['Value'].to_numpy().tolist())\n",
        "plt.show()"
      ]
    },
    {
      "cell_type": "code",
      "execution_count": null,
      "metadata": {
        "colab": {
          "base_uri": "https://localhost:8080/",
          "height": 724
        },
        "id": "Ck-aexUjYaMR",
        "outputId": "f1e409c5-0a36-44c0-ba8c-15a8f8f0ecc2"
      },
      "outputs": [
        {
          "data": {
            "image/png": "[encoded data removed]",
            "text/plain": [
              "<Figure size 504x864 with 1 Axes>"
            ]
          },
          "metadata": {
            "needs_background": "light",
            "tags": []
          },
          "output_type": "display_data"
        }
      ],
      "source": [
        "plt_color = []\n",
        "\n",
        "rgbl=[255,0,0]\n",
        "\n",
        "plt.title('GDP 경제률이 가장 낮은 국가는 어디인가?', fontsize=22)\n",
        "sf.plot(sizes=small_gdp_for_bar['Value'].to_numpy().tolist(), \n",
        "        label=small_gdp_for_bar['LOCATION'].to_numpy().tolist(),\n",
        "        color=random.shuffle(rgbl),\n",
        "        alpha=0.7)\n",
        "plt.axis()\n",
        "plt.show()"
      ]
    },
    {
      "cell_type": "markdown",
      "metadata": {
        "id": "H-7CW9ZXYmnD"
      },
      "source": [
        "-----\n",
        "## 4-3. 스타벅스와 GDP 의 연계성 분석\n",
        "위에서 쭉 분석한 스타벅스 데이터셋과 GDP 데이터셋의 연계성을 이제는 파악할 차례이다. 이전에 작성을 했던 가설에 있던 내용들이 맞는지를 확인을 할 차레인 것이다. 그럼 다시 위에서 작성 했던 가설들을 한번 끌어와서 확인을 하나하나 해보자.\n",
        "\n",
        "### 가설\n",
        "- GDP가 높을수록 스타벅스 매장 수가 많을 것이다.\n",
        "- 반대로 GDP가 낮을수록 스타벅스 매장 수는 적을 것이다.\n",
        "\n",
        "위에 가설을 하나하나 짚어가면서 최종적으로 데이터를 분석해보자."
      ]
    },
    {
      "cell_type": "markdown",
      "metadata": {
        "id": "1zRij6Z0xeBm"
      },
      "source": [
        "## 4-3-1. \"GDP가 높을수록 스타벅스 매장 수가 많을 것이다.\"\n",
        "\n",
        "일단 가장 먼저 스타벅스 매장 수를 기준으로 내림차순 기준 배열을 해보자. "
      ]
    },
    {
      "cell_type": "code",
      "execution_count": null,
      "metadata": {
        "colab": {
          "base_uri": "https://localhost:8080/",
          "height": 514
        },
        "id": "qpo9Q1oaYmQP",
        "outputId": "f56efd74-6d97-49af-d6de-79d1829d0665"
      },
      "outputs": [
        {
          "data": {
            "text/html": [
              "<div>\n",
              "<style scoped>\n",
              "    .dataframe tbody tr th:only-of-type {\n",
              "        vertical-align: middle;\n",
              "    }\n",
              "\n",
              "    .dataframe tbody tr th {\n",
              "        vertical-align: top;\n",
              "    }\n",
              "\n",
              "    .dataframe thead th {\n",
              "        text-align: right;\n",
              "    }\n",
              "</style>\n",
              "<table border=\"1\" class=\"dataframe\">\n",
              "  <thead>\n",
              "    <tr style=\"text-align: right;\">\n",
              "      <th></th>\n",
              "      <th>LOCATION</th>\n",
              "      <th>Value</th>\n",
              "      <th>stores_cnt</th>\n",
              "    </tr>\n",
              "  </thead>\n",
              "  <tbody>\n",
              "    <tr>\n",
              "      <th>5</th>\n",
              "      <td>USA</td>\n",
              "      <td>60091.568784</td>\n",
              "      <td>13608</td>\n",
              "    </tr>\n",
              "    <tr>\n",
              "      <th>39</th>\n",
              "      <td>CHN</td>\n",
              "      <td>14306.396116</td>\n",
              "      <td>2734</td>\n",
              "    </tr>\n",
              "    <tr>\n",
              "      <th>13</th>\n",
              "      <td>CAN</td>\n",
              "      <td>48316.716527</td>\n",
              "      <td>1468</td>\n",
              "    </tr>\n",
              "    <tr>\n",
              "      <th>19</th>\n",
              "      <td>JPN</td>\n",
              "      <td>40992.393230</td>\n",
              "      <td>1237</td>\n",
              "    </tr>\n",
              "    <tr>\n",
              "      <th>20</th>\n",
              "      <td>KOR</td>\n",
              "      <td>40957.347064</td>\n",
              "      <td>992</td>\n",
              "    </tr>\n",
              "    <tr>\n",
              "      <th>16</th>\n",
              "      <td>GBR</td>\n",
              "      <td>45757.778123</td>\n",
              "      <td>901</td>\n",
              "    </tr>\n",
              "    <tr>\n",
              "      <th>36</th>\n",
              "      <td>MEX</td>\n",
              "      <td>19947.197691</td>\n",
              "      <td>579</td>\n",
              "    </tr>\n",
              "    <tr>\n",
              "      <th>29</th>\n",
              "      <td>TUR</td>\n",
              "      <td>28193.061398</td>\n",
              "      <td>326</td>\n",
              "    </tr>\n",
              "    <tr>\n",
              "      <th>41</th>\n",
              "      <td>IDN</td>\n",
              "      <td>11050.882373</td>\n",
              "      <td>268</td>\n",
              "    </tr>\n",
              "    <tr>\n",
              "      <th>9</th>\n",
              "      <td>DEU</td>\n",
              "      <td>52952.897774</td>\n",
              "      <td>160</td>\n",
              "    </tr>\n",
              "    <tr>\n",
              "      <th>17</th>\n",
              "      <td>FRA</td>\n",
              "      <td>44480.722199</td>\n",
              "      <td>132</td>\n",
              "    </tr>\n",
              "    <tr>\n",
              "      <th>1</th>\n",
              "      <td>SGP</td>\n",
              "      <td>94945.250892</td>\n",
              "      <td>130</td>\n",
              "    </tr>\n",
              "    <tr>\n",
              "      <th>31</th>\n",
              "      <td>RUS</td>\n",
              "      <td>25926.431403</td>\n",
              "      <td>109</td>\n",
              "    </tr>\n",
              "    <tr>\n",
              "      <th>33</th>\n",
              "      <td>ARG</td>\n",
              "      <td>23597.117759</td>\n",
              "      <td>108</td>\n",
              "    </tr>\n",
              "    <tr>\n",
              "      <th>37</th>\n",
              "      <td>BRA</td>\n",
              "      <td>14596.889676</td>\n",
              "      <td>102</td>\n",
              "    </tr>\n",
              "  </tbody>\n",
              "</table>\n",
              "</div>"
            ],
            "text/plain": [
              "   LOCATION         Value  stores_cnt\n",
              "5       USA  60091.568784       13608\n",
              "39      CHN  14306.396116        2734\n",
              "13      CAN  48316.716527        1468\n",
              "19      JPN  40992.393230        1237\n",
              "20      KOR  40957.347064         992\n",
              "16      GBR  45757.778123         901\n",
              "36      MEX  19947.197691         579\n",
              "29      TUR  28193.061398         326\n",
              "41      IDN  11050.882373         268\n",
              "9       DEU  52952.897774         160\n",
              "17      FRA  44480.722199         132\n",
              "1       SGP  94945.250892         130\n",
              "31      RUS  25926.431403         109\n",
              "33      ARG  23597.117759         108\n",
              "37      BRA  14596.889676         102"
            ]
          },
          "execution_count": 84,
          "metadata": {
            "tags": []
          },
          "output_type": "execute_result"
        }
      ],
      "source": [
        "result.head(15)"
      ]
    },
    {
      "cell_type": "markdown",
      "metadata": {
        "id": "GUNNSxHJDv9M"
      },
      "source": [
        "사실상 위에 도표를 보면 아직 GDP 에 따른 스타벅스 매장 수의 연계성을 찾아볼수가 없다. GDP 에 따른 스타벅스의 연계성을 찾기에는 스타벅스의 매장 수를 기준으로 정렬을 하는 것 보다는 GDP 기준으로 정렬을 하는 것이 사실 그에 따른 결과를 찾아보기가 쉽다. 일단 그래도 한번 \n",
        "정리된 데이터를 시각화 해보자.\n"
      ]
    },
    {
      "cell_type": "code",
      "execution_count": null,
      "metadata": {
        "colab": {
          "base_uri": "https://localhost:8080/",
          "height": 731
        },
        "id": "qu3GnrlwxmOJ",
        "outputId": "c3cdea7f-0120-408f-bced-023513377c70"
      },
      "outputs": [
        {
          "name": "stdout",
          "output_type": "stream",
          "text": [
            "True\n"
          ]
        },
        {
          "data": {
            "image/png": "[encoded data removed]",
            "text/plain": [
              "<Figure size 504x864 with 1 Axes>"
            ]
          },
          "metadata": {
            "needs_background": "light",
            "tags": []
          },
          "output_type": "display_data"
        }
      ],
      "source": [
        "result_for_scatter = result.drop(result.index[13:])\n",
        "\n",
        "ax1 = result_for_scatter.plot(kind='scatter', x='LOCATION', y='Value', color='r')\n",
        "ax2 = result_for_scatter.plot(kind='scatter', x='LOCATION', y='stores_cnt', color='b', ax=ax1)\n",
        "print(ax1 == ax2)"
      ]
    },
    {
      "cell_type": "code",
      "execution_count": null,
      "metadata": {
        "colab": {
          "base_uri": "https://localhost:8080/",
          "height": 725
        },
        "id": "g2S5WR0-CePG",
        "outputId": "326edf8b-9445-4975-e630-90aca242c3f9"
      },
      "outputs": [
        {
          "data": {
            "image/png": "[encoded data removed]",
            "text/plain": [
              "<Figure size 504x864 with 1 Axes>"
            ]
          },
          "metadata": {
            "needs_background": "light",
            "tags": []
          },
          "output_type": "display_data"
        }
      ],
      "source": [
        "result_for_scatter.plot(x=\"LOCATION\", y=[\"stores_cnt\", \"Value\"], kind=\"bar\")\n",
        "plt.show()"
      ]
    },
    {
      "cell_type": "markdown",
      "metadata": {
        "id": "wP_twwR_IS4f"
      },
      "source": [
        "사실 이 데이터를 시각화 하기에는 stores_cnt (스타벅스 매장수) 칼럼과 Value (GDP 경제율(?)) 의 갭 차이가 너무 심하여 이를 한눈에 보기 좋은 시각화를 하기에는 힘들다. \n",
        "\n",
        "하지만 비교적으로 보기 좋게 만드는 방법은 매장의 수 기준이 아닌 GDP 기준으로 정렬을 하면 그나마 확인을 하기가 쉽다."
      ]
    },
    {
      "cell_type": "code",
      "execution_count": null,
      "metadata": {
        "id": "u40m0ARyI88l"
      },
      "outputs": [],
      "source": [
        "less_result_for_scatter = result.sort_values(by=['Value'], ascending=False)\n",
        "less_result_for_scatter.head(13)\n",
        "\n",
        "less_result_for_scatter = less_result_for_scatter.drop(less_result_for_scatter.index[13:])"
      ]
    },
    {
      "cell_type": "code",
      "execution_count": null,
      "metadata": {
        "colab": {
          "base_uri": "https://localhost:8080/",
          "height": 731
        },
        "id": "ZYs1xMGZJIkG",
        "outputId": "467edb5f-e674-4810-d78c-29cd70f83b59"
      },
      "outputs": [
        {
          "name": "stdout",
          "output_type": "stream",
          "text": [
            "True\n"
          ]
        },
        {
          "data": {
            "image/png": "[encoded data removed]",
            "text/plain": [
              "<Figure size 504x864 with 1 Axes>"
            ]
          },
          "metadata": {
            "needs_background": "light",
            "tags": []
          },
          "output_type": "display_data"
        }
      ],
      "source": [
        "ax1 = less_result_for_scatter.plot(kind='scatter', x='LOCATION', y='Value', color='r')\n",
        "ax2 = less_result_for_scatter.plot(kind='scatter', x='LOCATION', y='stores_cnt', color='b', ax=ax1)\n",
        "print(ax1 == ax2)"
      ]
    },
    {
      "cell_type": "code",
      "execution_count": null,
      "metadata": {
        "colab": {
          "base_uri": "https://localhost:8080/",
          "height": 726
        },
        "id": "cRm--5hcJe0n",
        "outputId": "563b4bd8-6f41-453d-ef9b-678e534f1ee3"
      },
      "outputs": [
        {
          "data": {
            "image/png": "[encoded data removed]",
            "text/plain": [
              "<Figure size 504x864 with 1 Axes>"
            ]
          },
          "metadata": {
            "needs_background": "light",
            "tags": []
          },
          "output_type": "display_data"
        }
      ],
      "source": [
        "less_result_for_scatter.plot(x=\"LOCATION\", y=[\"stores_cnt\", \"Value\"], kind=\"bar\")\n",
        "plt.show()"
      ]
    },
    {
      "cell_type": "markdown",
      "metadata": {
        "id": "_suRLLZ2Jr1z"
      },
      "source": [
        "비교적으로 한눈에 보기가 쉽다. 2번째 시각화가 된 결과를 보면 우리는 전혀 관련이 없다는 사실을 확인을 할 수 있다. 사실 그래프는 그려졌으나 그의 수가 너무나도 미미하여 보이지도 않는다. 이를 보여주는 시각화가 1번째 Scatter 시각화 결과물이다.\n",
        "\n",
        "위 시각화 결과물로 우리는 첫번째 가설인 \"GDP가 높은 국가일수록 스타벅스의 매장 수가 많을 것이다.\" 라는 가설은 틀리게 되었다. 예외적인 결과로 USA가 있지만 그러기에는 나머지 12개국이 너무나도 미미하여 가설이 많다고 주장하기에는 어렵다.\n",
        "\n",
        "그럼 두번째 가설인 \"GDP가 낮을수록 스타벅스의 매장 수는 적을 것이다\" 라는 가설을 확인해보자."
      ]
    },
    {
      "cell_type": "markdown",
      "metadata": {
        "id": "v0LD7_Q-KqH0"
      },
      "source": [
        "## 4-3-2. \"GDP가 낮을수록 스타벅스 매장 수가 적을 것이다.\"\n",
        "\n",
        "위 가설을 증명하기 위해서는 일단 가장 먼저 GDP가 낮은 순으로 정렬을 한 후에 인덱싱을 한 후에 스타벅스 매장 순으로 최종 정렬을 거칠 것이다."
      ]
    },
    {
      "cell_type": "code",
      "execution_count": null,
      "metadata": {
        "id": "BBpZFiNgK-iW"
      },
      "outputs": [],
      "source": [
        "rewind_result = result.sort_values(by=['Value'], ascending=True)\n",
        "rewind_result = rewind_result.drop(rewind_result.index[13:])\n",
        "\n",
        "store_rewind_result = rewind_result.sort_values(by=['stores_cnt'], ascending=True)\n",
        "value_rewind_result = rewind_result.sort_values(by=['Value'], ascending=True)"
      ]
    },
    {
      "cell_type": "code",
      "execution_count": null,
      "metadata": {
        "colab": {
          "base_uri": "https://localhost:8080/",
          "height": 204
        },
        "id": "3jz1MRKlL-qM",
        "outputId": "d5a141fc-feed-4f34-eb15-9fe688a8e710"
      },
      "outputs": [
        {
          "data": {
            "text/html": [
              "<div>\n",
              "<style scoped>\n",
              "    .dataframe tbody tr th:only-of-type {\n",
              "        vertical-align: middle;\n",
              "    }\n",
              "\n",
              "    .dataframe tbody tr th {\n",
              "        vertical-align: top;\n",
              "    }\n",
              "\n",
              "    .dataframe thead th {\n",
              "        text-align: right;\n",
              "    }\n",
              "</style>\n",
              "<table border=\"1\" class=\"dataframe\">\n",
              "  <thead>\n",
              "    <tr style=\"text-align: right;\">\n",
              "      <th></th>\n",
              "      <th>LOCATION</th>\n",
              "      <th>Value</th>\n",
              "      <th>stores_cnt</th>\n",
              "    </tr>\n",
              "  </thead>\n",
              "  <tbody>\n",
              "    <tr>\n",
              "      <th>42</th>\n",
              "      <td>MAR</td>\n",
              "      <td>7581.215412</td>\n",
              "      <td>9</td>\n",
              "    </tr>\n",
              "    <tr>\n",
              "      <th>41</th>\n",
              "      <td>IDN</td>\n",
              "      <td>11050.882373</td>\n",
              "      <td>268</td>\n",
              "    </tr>\n",
              "    <tr>\n",
              "      <th>40</th>\n",
              "      <td>ZAF</td>\n",
              "      <td>12810.965544</td>\n",
              "      <td>3</td>\n",
              "    </tr>\n",
              "    <tr>\n",
              "      <th>39</th>\n",
              "      <td>CHN</td>\n",
              "      <td>14306.396116</td>\n",
              "      <td>2734</td>\n",
              "    </tr>\n",
              "    <tr>\n",
              "      <th>38</th>\n",
              "      <td>COL</td>\n",
              "      <td>14479.812544</td>\n",
              "      <td>11</td>\n",
              "    </tr>\n",
              "  </tbody>\n",
              "</table>\n",
              "</div>"
            ],
            "text/plain": [
              "   LOCATION         Value  stores_cnt\n",
              "42      MAR   7581.215412           9\n",
              "41      IDN  11050.882373         268\n",
              "40      ZAF  12810.965544           3\n",
              "39      CHN  14306.396116        2734\n",
              "38      COL  14479.812544          11"
            ]
          },
          "execution_count": 91,
          "metadata": {
            "tags": []
          },
          "output_type": "execute_result"
        }
      ],
      "source": [
        "value_rewind_result.head()"
      ]
    },
    {
      "cell_type": "markdown",
      "metadata": {
        "id": "C2LfcOehMEhc"
      },
      "source": [
        "GDP 가 낮은 순으로 정리가 되었다. 한번 시각화를 통해서 이를 확인해보자."
      ]
    },
    {
      "cell_type": "code",
      "execution_count": null,
      "metadata": {
        "colab": {
          "base_uri": "https://localhost:8080/",
          "height": 714
        },
        "id": "mJlSOB2XMMMX",
        "outputId": "7b645417-24a2-4346-ea71-462689cf7906"
      },
      "outputs": [
        {
          "data": {
            "image/png": "[encoded data removed]",
            "text/plain": [
              "<Figure size 504x864 with 1 Axes>"
            ]
          },
          "metadata": {
            "needs_background": "light",
            "tags": []
          },
          "output_type": "display_data"
        }
      ],
      "source": [
        "ax1 = value_rewind_result.plot(kind='scatter', x='LOCATION', y='Value', color='r')\n",
        "ax2 = value_rewind_result.plot(kind='scatter', x='LOCATION', y='stores_cnt', color='b', ax=ax1)\n",
        "\n",
        "plt.show()"
      ]
    },
    {
      "cell_type": "code",
      "execution_count": null,
      "metadata": {
        "colab": {
          "base_uri": "https://localhost:8080/",
          "height": 726
        },
        "id": "-81vCuBsPlr_",
        "outputId": "5bb1c687-c8a4-42a6-daf3-1de63aac27cf"
      },
      "outputs": [
        {
          "data": {
            "image/png": "[encoded data removed]",
            "text/plain": [
              "<Figure size 504x864 with 1 Axes>"
            ]
          },
          "metadata": {
            "needs_background": "light",
            "tags": []
          },
          "output_type": "display_data"
        }
      ],
      "source": [
        "value_rewind_result.plot(x=\"LOCATION\", y=[\"stores_cnt\", \"Value\"], kind=\"bar\")\n",
        "plt.show()"
      ]
    },
    {
      "cell_type": "markdown",
      "metadata": {
        "id": "z3nU2fdIP5UN"
      },
      "source": [
        "GDP 경제율 기준으로 정렬하여 보았을때에는 중간 중간에 비교적으로 높은 국가들이 있어 확신을 갖기에는 이른 감이 있다. 다시 그럼 매장수 기준으로 정렬을 하여 보자."
      ]
    },
    {
      "cell_type": "code",
      "execution_count": null,
      "metadata": {
        "colab": {
          "base_uri": "https://localhost:8080/",
          "height": 452
        },
        "id": "WbSBSXkdQJgj",
        "outputId": "0da948d1-b16b-4a0d-c718-286a1b911956"
      },
      "outputs": [
        {
          "data": {
            "text/html": [
              "<div>\n",
              "<style scoped>\n",
              "    .dataframe tbody tr th:only-of-type {\n",
              "        vertical-align: middle;\n",
              "    }\n",
              "\n",
              "    .dataframe tbody tr th {\n",
              "        vertical-align: top;\n",
              "    }\n",
              "\n",
              "    .dataframe thead th {\n",
              "        text-align: right;\n",
              "    }\n",
              "</style>\n",
              "<table border=\"1\" class=\"dataframe\">\n",
              "  <thead>\n",
              "    <tr style=\"text-align: right;\">\n",
              "      <th></th>\n",
              "      <th>LOCATION</th>\n",
              "      <th>Value</th>\n",
              "      <th>stores_cnt</th>\n",
              "    </tr>\n",
              "  </thead>\n",
              "  <tbody>\n",
              "    <tr>\n",
              "      <th>40</th>\n",
              "      <td>ZAF</td>\n",
              "      <td>12810.965544</td>\n",
              "      <td>3</td>\n",
              "    </tr>\n",
              "    <tr>\n",
              "      <th>34</th>\n",
              "      <td>BGR</td>\n",
              "      <td>21387.279564</td>\n",
              "      <td>5</td>\n",
              "    </tr>\n",
              "    <tr>\n",
              "      <th>42</th>\n",
              "      <td>MAR</td>\n",
              "      <td>7581.215412</td>\n",
              "      <td>9</td>\n",
              "    </tr>\n",
              "    <tr>\n",
              "      <th>38</th>\n",
              "      <td>COL</td>\n",
              "      <td>14479.812544</td>\n",
              "      <td>11</td>\n",
              "    </tr>\n",
              "    <tr>\n",
              "      <th>35</th>\n",
              "      <td>CRI</td>\n",
              "      <td>20368.230268</td>\n",
              "      <td>11</td>\n",
              "    </tr>\n",
              "    <tr>\n",
              "      <th>30</th>\n",
              "      <td>ROU</td>\n",
              "      <td>27136.073190</td>\n",
              "      <td>27</td>\n",
              "    </tr>\n",
              "    <tr>\n",
              "      <th>32</th>\n",
              "      <td>CHL</td>\n",
              "      <td>24402.005375</td>\n",
              "      <td>96</td>\n",
              "    </tr>\n",
              "    <tr>\n",
              "      <th>37</th>\n",
              "      <td>BRA</td>\n",
              "      <td>14596.889676</td>\n",
              "      <td>102</td>\n",
              "    </tr>\n",
              "    <tr>\n",
              "      <th>33</th>\n",
              "      <td>ARG</td>\n",
              "      <td>23597.117759</td>\n",
              "      <td>108</td>\n",
              "    </tr>\n",
              "    <tr>\n",
              "      <th>31</th>\n",
              "      <td>RUS</td>\n",
              "      <td>25926.431403</td>\n",
              "      <td>109</td>\n",
              "    </tr>\n",
              "    <tr>\n",
              "      <th>41</th>\n",
              "      <td>IDN</td>\n",
              "      <td>11050.882373</td>\n",
              "      <td>268</td>\n",
              "    </tr>\n",
              "    <tr>\n",
              "      <th>36</th>\n",
              "      <td>MEX</td>\n",
              "      <td>19947.197691</td>\n",
              "      <td>579</td>\n",
              "    </tr>\n",
              "    <tr>\n",
              "      <th>39</th>\n",
              "      <td>CHN</td>\n",
              "      <td>14306.396116</td>\n",
              "      <td>2734</td>\n",
              "    </tr>\n",
              "  </tbody>\n",
              "</table>\n",
              "</div>"
            ],
            "text/plain": [
              "   LOCATION         Value  stores_cnt\n",
              "40      ZAF  12810.965544           3\n",
              "34      BGR  21387.279564           5\n",
              "42      MAR   7581.215412           9\n",
              "38      COL  14479.812544          11\n",
              "35      CRI  20368.230268          11\n",
              "30      ROU  27136.073190          27\n",
              "32      CHL  24402.005375          96\n",
              "37      BRA  14596.889676         102\n",
              "33      ARG  23597.117759         108\n",
              "31      RUS  25926.431403         109\n",
              "41      IDN  11050.882373         268\n",
              "36      MEX  19947.197691         579\n",
              "39      CHN  14306.396116        2734"
            ]
          },
          "execution_count": 94,
          "metadata": {
            "tags": []
          },
          "output_type": "execute_result"
        }
      ],
      "source": [
        "store_rewind_result.head(13)"
      ]
    },
    {
      "cell_type": "code",
      "execution_count": null,
      "metadata": {
        "colab": {
          "base_uri": "https://localhost:8080/",
          "height": 714
        },
        "id": "OdWq4nR-QPOt",
        "outputId": "afed60a7-77d7-47e7-fe36-03f108f8996e"
      },
      "outputs": [
        {
          "data": {
            "image/png": "[encoded data removed]",
            "text/plain": [
              "<Figure size 504x864 with 1 Axes>"
            ]
          },
          "metadata": {
            "needs_background": "light",
            "tags": []
          },
          "output_type": "display_data"
        }
      ],
      "source": [
        "ax1 = store_rewind_result.plot(kind='scatter', x='LOCATION', y='Value', color='r')\n",
        "ax2 = store_rewind_result.plot(kind='scatter', x='LOCATION', y='stores_cnt', color='b', ax=ax1)\n",
        "\n",
        "plt.show()"
      ]
    },
    {
      "cell_type": "code",
      "execution_count": null,
      "metadata": {
        "colab": {
          "base_uri": "https://localhost:8080/",
          "height": 726
        },
        "id": "ZPaZl2ScQaV3",
        "outputId": "4cc8339b-8702-486a-a23c-b3a199d41bf5"
      },
      "outputs": [
        {
          "data": {
            "image/png": "[encoded data removed]",
            "text/plain": [
              "<Figure size 504x864 with 1 Axes>"
            ]
          },
          "metadata": {
            "needs_background": "light",
            "tags": []
          },
          "output_type": "display_data"
        }
      ],
      "source": [
        "store_rewind_result.plot(x=\"LOCATION\", y=[\"stores_cnt\", \"Value\"], kind=\"bar\")\n",
        "plt.show()"
      ]
    },
    {
      "cell_type": "markdown",
      "metadata": {
        "id": "EdQfG6cDQe02"
      },
      "source": [
        "**혼란스럽다**. 전혀 예상을 못했다. 이렇게 까지 들쑥날쑥 할지는 몰랐다. \n",
        "\n",
        "일단 확실한거는 연계성은 없다는 점이다. 비교적 GDP가 높은 국가인 로마니아에서는 27개 밖에 없다. 하지만 로미나아보다 매장이 가장 많고 미국 다음으로 두번째로 매장이 많은 중국은 GDP가 낮지만 스타벅스 매장이 굉장히 많다는 점을 확인 할 수 있다. 결론적으로 우리는 스타벅스와 GDP의 연계성을 전혀 찾을 수 없다는 것을 확인 함과 동시에 스타벅스가 경제의 상징이라는 것을 빅데이터를 통해 틀렸다는 것을 확인 할 수 있었다."
      ]
    },
    {
      "cell_type": "markdown",
      "metadata": {
        "id": "L4kkizwSt3xL"
      },
      "source": [
        "-----\n",
        "## 5. 최종 분석\n",
        "***위 과정을 통해서 두개의 가설이 틀렸다는 것을 확인을 하였다. 또한 스타벅스와 GDP 즉, 국가경제성장률과는 전혀 무관함을 확인하였다.***\n",
        "\n",
        "그렇다면 GDP가 높은 국가들은 주로 어떤 국가들이고 그 국가들의 특징들, 그리고 스타벅스의 매장 수가 높은 국가들은 주로 어떤 국가들이 있는지 분석을 하고 마무리 하겠다. 추가활동으로는 스타벅스 도시별 매장 수를 확인하며 스타벅스 매장 수가 높은 국가들과의 연계성을 간단히 다뤄보면서 진짜로 마무리 하겠다.\n",
        "\n",
        "### 5-1. GDP가 높은 국가들\n",
        "위에서 사용했던 데이터셋을 끌어와 어떤 국가들이 있는지 확인해보자."
      ]
    },
    {
      "cell_type": "code",
      "execution_count": null,
      "metadata": {
        "colab": {
          "base_uri": "https://localhost:8080/",
          "height": 452
        },
        "id": "AG9I4MZJwb0b",
        "outputId": "fc7d7c3d-ee71-4ab7-ac3e-a9e366bbf76e"
      },
      "outputs": [
        {
          "data": {
            "text/html": [
              "<div>\n",
              "<style scoped>\n",
              "    .dataframe tbody tr th:only-of-type {\n",
              "        vertical-align: middle;\n",
              "    }\n",
              "\n",
              "    .dataframe tbody tr th {\n",
              "        vertical-align: top;\n",
              "    }\n",
              "\n",
              "    .dataframe thead th {\n",
              "        text-align: right;\n",
              "    }\n",
              "</style>\n",
              "<table border=\"1\" class=\"dataframe\">\n",
              "  <thead>\n",
              "    <tr style=\"text-align: right;\">\n",
              "      <th></th>\n",
              "      <th>LOCATION</th>\n",
              "      <th>Value</th>\n",
              "      <th>stores_cnt</th>\n",
              "    </tr>\n",
              "  </thead>\n",
              "  <tbody>\n",
              "    <tr>\n",
              "      <th>0</th>\n",
              "      <td>LUX</td>\n",
              "      <td>112187.731906</td>\n",
              "      <td>2</td>\n",
              "    </tr>\n",
              "    <tr>\n",
              "      <th>1</th>\n",
              "      <td>SGP</td>\n",
              "      <td>94945.250892</td>\n",
              "      <td>130</td>\n",
              "    </tr>\n",
              "    <tr>\n",
              "      <th>2</th>\n",
              "      <td>IRL</td>\n",
              "      <td>78739.398464</td>\n",
              "      <td>73</td>\n",
              "    </tr>\n",
              "    <tr>\n",
              "      <th>3</th>\n",
              "      <td>CHE</td>\n",
              "      <td>69103.567686</td>\n",
              "      <td>61</td>\n",
              "    </tr>\n",
              "    <tr>\n",
              "      <th>4</th>\n",
              "      <td>NOR</td>\n",
              "      <td>64050.366694</td>\n",
              "      <td>17</td>\n",
              "    </tr>\n",
              "    <tr>\n",
              "      <th>5</th>\n",
              "      <td>USA</td>\n",
              "      <td>60091.568784</td>\n",
              "      <td>13608</td>\n",
              "    </tr>\n",
              "    <tr>\n",
              "      <th>6</th>\n",
              "      <td>DNK</td>\n",
              "      <td>55356.490090</td>\n",
              "      <td>21</td>\n",
              "    </tr>\n",
              "    <tr>\n",
              "      <th>7</th>\n",
              "      <td>NLD</td>\n",
              "      <td>55089.581430</td>\n",
              "      <td>59</td>\n",
              "    </tr>\n",
              "    <tr>\n",
              "      <th>8</th>\n",
              "      <td>AUT</td>\n",
              "      <td>54185.337013</td>\n",
              "      <td>18</td>\n",
              "    </tr>\n",
              "    <tr>\n",
              "      <th>9</th>\n",
              "      <td>DEU</td>\n",
              "      <td>52952.897774</td>\n",
              "      <td>160</td>\n",
              "    </tr>\n",
              "    <tr>\n",
              "      <th>10</th>\n",
              "      <td>SWE</td>\n",
              "      <td>51947.942867</td>\n",
              "      <td>18</td>\n",
              "    </tr>\n",
              "    <tr>\n",
              "      <th>11</th>\n",
              "      <td>AUS</td>\n",
              "      <td>50853.615427</td>\n",
              "      <td>22</td>\n",
              "    </tr>\n",
              "    <tr>\n",
              "      <th>12</th>\n",
              "      <td>BEL</td>\n",
              "      <td>50442.947518</td>\n",
              "      <td>19</td>\n",
              "    </tr>\n",
              "  </tbody>\n",
              "</table>\n",
              "</div>"
            ],
            "text/plain": [
              "   LOCATION          Value  stores_cnt\n",
              "0       LUX  112187.731906           2\n",
              "1       SGP   94945.250892         130\n",
              "2       IRL   78739.398464          73\n",
              "3       CHE   69103.567686          61\n",
              "4       NOR   64050.366694          17\n",
              "5       USA   60091.568784       13608\n",
              "6       DNK   55356.490090          21\n",
              "7       NLD   55089.581430          59\n",
              "8       AUT   54185.337013          18\n",
              "9       DEU   52952.897774         160\n",
              "10      SWE   51947.942867          18\n",
              "11      AUS   50853.615427          22\n",
              "12      BEL   50442.947518          19"
            ]
          },
          "execution_count": 97,
          "metadata": {
            "tags": []
          },
          "output_type": "execute_result"
        }
      ],
      "source": [
        "less_result_for_scatter.head(13)"
      ]
    },
    {
      "cell_type": "markdown",
      "metadata": {
        "id": "JORtSWHtNyV8"
      },
      "source": [
        "상위 5개국들을 주로 어떤 국가인지를 확인해보자. \n",
        "\n"
      ]
    },
    {
      "cell_type": "code",
      "execution_count": null,
      "metadata": {
        "colab": {
          "base_uri": "https://localhost:8080/",
          "height": 204
        },
        "id": "IVOcuNaNch8L",
        "outputId": "e527b45b-d80f-43c7-f96c-21acf260646d"
      },
      "outputs": [
        {
          "data": {
            "text/html": [
              "<div>\n",
              "<style scoped>\n",
              "    .dataframe tbody tr th:only-of-type {\n",
              "        vertical-align: middle;\n",
              "    }\n",
              "\n",
              "    .dataframe tbody tr th {\n",
              "        vertical-align: top;\n",
              "    }\n",
              "\n",
              "    .dataframe thead th {\n",
              "        text-align: right;\n",
              "    }\n",
              "</style>\n",
              "<table border=\"1\" class=\"dataframe\">\n",
              "  <thead>\n",
              "    <tr style=\"text-align: right;\">\n",
              "      <th></th>\n",
              "      <th>0</th>\n",
              "    </tr>\n",
              "  </thead>\n",
              "  <tbody>\n",
              "    <tr>\n",
              "      <th>0</th>\n",
              "      <td>Luxembourg</td>\n",
              "    </tr>\n",
              "    <tr>\n",
              "      <th>1</th>\n",
              "      <td>Singapore</td>\n",
              "    </tr>\n",
              "    <tr>\n",
              "      <th>2</th>\n",
              "      <td>Ireland</td>\n",
              "    </tr>\n",
              "    <tr>\n",
              "      <th>3</th>\n",
              "      <td>Switzerland</td>\n",
              "    </tr>\n",
              "    <tr>\n",
              "      <th>4</th>\n",
              "      <td>Norway</td>\n",
              "    </tr>\n",
              "  </tbody>\n",
              "</table>\n",
              "</div>"
            ],
            "text/plain": [
              "             0\n",
              "0   Luxembourg\n",
              "1    Singapore\n",
              "2      Ireland\n",
              "3  Switzerland\n",
              "4       Norway"
            ]
          },
          "execution_count": 98,
          "metadata": {
            "tags": []
          },
          "output_type": "execute_result"
        }
      ],
      "source": [
        "starbucks_country_less_list = less_result_for_scatter['LOCATION'].to_numpy().tolist()\n",
        "\n",
        "full_names = {}\n",
        "for country in pycountry.countries:\n",
        "  full_names[country.alpha_3] = country.name\n",
        "  \n",
        "codes = [full_names.get(country, 'Unknown code') for country in starbucks_country_less_list]\n",
        "codes_df = pd.DataFrame(codes)\n",
        "codes_df.head()"
      ]
    },
    {
      "cell_type": "markdown",
      "metadata": {
        "id": "zONneXCcbv_d"
      },
      "source": [
        "룩센부르크, 싱카포르, 아일랜드, 스코츠랜드 마지막으로 노르웨이가 상위 5개국에 속하게 되었다. 이들의 특징은 싱카포르를 제외하고는 모두 유럽에 해당하는 국가들이다. 공통점이라고 하면 모두 외각에 동떨어졌다고 볼만한 국가들이다. \n",
        "\n",
        "그렇다면 반대로 스타벅스가 많은 국가들은 어떤 나라가 있을까?"
      ]
    },
    {
      "cell_type": "code",
      "execution_count": null,
      "metadata": {
        "colab": {
          "base_uri": "https://localhost:8080/",
          "height": 204
        },
        "id": "5mHTvR_AitMU",
        "outputId": "05bf9ddd-6639-4b34-fdfd-713dc2708d19"
      },
      "outputs": [
        {
          "data": {
            "text/html": [
              "<div>\n",
              "<style scoped>\n",
              "    .dataframe tbody tr th:only-of-type {\n",
              "        vertical-align: middle;\n",
              "    }\n",
              "\n",
              "    .dataframe tbody tr th {\n",
              "        vertical-align: top;\n",
              "    }\n",
              "\n",
              "    .dataframe thead th {\n",
              "        text-align: right;\n",
              "    }\n",
              "</style>\n",
              "<table border=\"1\" class=\"dataframe\">\n",
              "  <thead>\n",
              "    <tr style=\"text-align: right;\">\n",
              "      <th></th>\n",
              "      <th>0</th>\n",
              "    </tr>\n",
              "  </thead>\n",
              "  <tbody>\n",
              "    <tr>\n",
              "      <th>0</th>\n",
              "      <td>United States</td>\n",
              "    </tr>\n",
              "    <tr>\n",
              "      <th>1</th>\n",
              "      <td>China</td>\n",
              "    </tr>\n",
              "    <tr>\n",
              "      <th>2</th>\n",
              "      <td>Canada</td>\n",
              "    </tr>\n",
              "    <tr>\n",
              "      <th>3</th>\n",
              "      <td>Japan</td>\n",
              "    </tr>\n",
              "    <tr>\n",
              "      <th>4</th>\n",
              "      <td>Korea, Republic of</td>\n",
              "    </tr>\n",
              "  </tbody>\n",
              "</table>\n",
              "</div>"
            ],
            "text/plain": [
              "                    0\n",
              "0       United States\n",
              "1               China\n",
              "2              Canada\n",
              "3               Japan\n",
              "4  Korea, Republic of"
            ]
          },
          "execution_count": 99,
          "metadata": {
            "tags": []
          },
          "output_type": "execute_result"
        }
      ],
      "source": [
        "starbucks_country_many_list = result_for_pie['LOCATION'].to_numpy().tolist()\n",
        "\n",
        "full_names = {}\n",
        "for country in pycountry.countries:\n",
        "  full_names[country.alpha_3] = country.name\n",
        "  \n",
        "codes = [full_names.get(country, 'Unknown code') for country in starbucks_country_many_list]\n",
        "codes_df = pd.DataFrame(codes)\n",
        "codes_df.head()"
      ]
    },
    {
      "cell_type": "markdown",
      "metadata": {
        "id": "5D_UcGyOfiDZ"
      },
      "source": [
        "미국, 중국, 캐나다, 일본 그리고 한국이 있다. 미국 같은 경우에는 GDP 경제 성장률 6위에 속할 만큼 사실상 GDP 또한 국가라고 볼수 있으나 스타벅스 자체가 미국에서 시작을 했으니 이는 당연히 많을 수 밖에 없다고 본다. \n",
        "\n",
        "스타벅스가 가장 많은 국가의 특징들은 미국과 캐나다를 제외하고 3개국은 모두 아시아 국가에 해당이 된다. 그렇다면 도시별 스타벅스 매장에서는 가장 많은 국가가 어디일까."
      ]
    },
    {
      "cell_type": "code",
      "execution_count": null,
      "metadata": {
        "colab": {
          "base_uri": "https://localhost:8080/",
          "height": 235
        },
        "id": "Am230pdDfXqi",
        "outputId": "562be823-37ec-4bfe-b527-bdbf161f3875"
      },
      "outputs": [
        {
          "data": {
            "text/html": [
              "<div>\n",
              "<style scoped>\n",
              "    .dataframe tbody tr th:only-of-type {\n",
              "        vertical-align: middle;\n",
              "    }\n",
              "\n",
              "    .dataframe tbody tr th {\n",
              "        vertical-align: top;\n",
              "    }\n",
              "\n",
              "    .dataframe thead th {\n",
              "        text-align: right;\n",
              "    }\n",
              "</style>\n",
              "<table border=\"1\" class=\"dataframe\">\n",
              "  <thead>\n",
              "    <tr style=\"text-align: right;\">\n",
              "      <th></th>\n",
              "      <th>Store Number</th>\n",
              "      <th>City</th>\n",
              "    </tr>\n",
              "    <tr>\n",
              "      <th>City</th>\n",
              "      <th></th>\n",
              "      <th></th>\n",
              "    </tr>\n",
              "  </thead>\n",
              "  <tbody>\n",
              "    <tr>\n",
              "      <th>上海市</th>\n",
              "      <td>542</td>\n",
              "      <td>上海市</td>\n",
              "    </tr>\n",
              "    <tr>\n",
              "      <th>Seoul</th>\n",
              "      <td>242</td>\n",
              "      <td>Seoul</td>\n",
              "    </tr>\n",
              "    <tr>\n",
              "      <th>北京市</th>\n",
              "      <td>234</td>\n",
              "      <td>北京市</td>\n",
              "    </tr>\n",
              "    <tr>\n",
              "      <th>New York</th>\n",
              "      <td>232</td>\n",
              "      <td>New York</td>\n",
              "    </tr>\n",
              "    <tr>\n",
              "      <th>London</th>\n",
              "      <td>216</td>\n",
              "      <td>London</td>\n",
              "    </tr>\n",
              "  </tbody>\n",
              "</table>\n",
              "</div>"
            ],
            "text/plain": [
              "          Store Number      City\n",
              "City                            \n",
              "上海市                542       上海市\n",
              "Seoul              242     Seoul\n",
              "北京市                234       北京市\n",
              "New York           232  New York\n",
              "London             216    London"
            ]
          },
          "execution_count": 100,
          "metadata": {
            "tags": []
          },
          "output_type": "execute_result"
        }
      ],
      "source": [
        "city_result_for_pie.head(5)"
      ]
    },
    {
      "cell_type": "markdown",
      "metadata": {
        "id": "nccPGnRpgSof"
      },
      "source": [
        "상하이, 서울, 베이징, 뉴욕, 런던이다. 진짜 혼란스럽다. \n",
        "\n",
        "상하이, 서울, 베이징, 뉴욕은 위에서 가장 스타벅스가 많은 국가에 해당이 되었으나 런던 같은 경우에는 가장 적은 국가의 부류에 속하기 때문이다. 위에서 우리는 주로 유럽권 국가들이 스타벅스 매장이 적다고 판단을 했기 때문이다. 그렇다면 런던 즉, 영국은 몇위 일까."
      ]
    },
    {
      "cell_type": "code",
      "execution_count": null,
      "metadata": {
        "colab": {
          "base_uri": "https://localhost:8080/",
          "height": 359
        },
        "id": "HOdJr9Iagtu5",
        "outputId": "4ac9ce0f-ee7e-4a79-baa0-783faf1311d3"
      },
      "outputs": [
        {
          "data": {
            "text/html": [
              "<div>\n",
              "<style scoped>\n",
              "    .dataframe tbody tr th:only-of-type {\n",
              "        vertical-align: middle;\n",
              "    }\n",
              "\n",
              "    .dataframe tbody tr th {\n",
              "        vertical-align: top;\n",
              "    }\n",
              "\n",
              "    .dataframe thead th {\n",
              "        text-align: right;\n",
              "    }\n",
              "</style>\n",
              "<table border=\"1\" class=\"dataframe\">\n",
              "  <thead>\n",
              "    <tr style=\"text-align: right;\">\n",
              "      <th></th>\n",
              "      <th>LOCATION</th>\n",
              "      <th>Value</th>\n",
              "      <th>stores_cnt</th>\n",
              "    </tr>\n",
              "  </thead>\n",
              "  <tbody>\n",
              "    <tr>\n",
              "      <th>5</th>\n",
              "      <td>USA</td>\n",
              "      <td>60091.568784</td>\n",
              "      <td>13608</td>\n",
              "    </tr>\n",
              "    <tr>\n",
              "      <th>39</th>\n",
              "      <td>CHN</td>\n",
              "      <td>14306.396116</td>\n",
              "      <td>2734</td>\n",
              "    </tr>\n",
              "    <tr>\n",
              "      <th>13</th>\n",
              "      <td>CAN</td>\n",
              "      <td>48316.716527</td>\n",
              "      <td>1468</td>\n",
              "    </tr>\n",
              "    <tr>\n",
              "      <th>19</th>\n",
              "      <td>JPN</td>\n",
              "      <td>40992.393230</td>\n",
              "      <td>1237</td>\n",
              "    </tr>\n",
              "    <tr>\n",
              "      <th>20</th>\n",
              "      <td>KOR</td>\n",
              "      <td>40957.347064</td>\n",
              "      <td>992</td>\n",
              "    </tr>\n",
              "    <tr>\n",
              "      <th>16</th>\n",
              "      <td>GBR</td>\n",
              "      <td>45757.778123</td>\n",
              "      <td>901</td>\n",
              "    </tr>\n",
              "    <tr>\n",
              "      <th>36</th>\n",
              "      <td>MEX</td>\n",
              "      <td>19947.197691</td>\n",
              "      <td>579</td>\n",
              "    </tr>\n",
              "    <tr>\n",
              "      <th>29</th>\n",
              "      <td>TUR</td>\n",
              "      <td>28193.061398</td>\n",
              "      <td>326</td>\n",
              "    </tr>\n",
              "    <tr>\n",
              "      <th>41</th>\n",
              "      <td>IDN</td>\n",
              "      <td>11050.882373</td>\n",
              "      <td>268</td>\n",
              "    </tr>\n",
              "    <tr>\n",
              "      <th>9</th>\n",
              "      <td>DEU</td>\n",
              "      <td>52952.897774</td>\n",
              "      <td>160</td>\n",
              "    </tr>\n",
              "  </tbody>\n",
              "</table>\n",
              "</div>"
            ],
            "text/plain": [
              "   LOCATION         Value  stores_cnt\n",
              "5       USA  60091.568784       13608\n",
              "39      CHN  14306.396116        2734\n",
              "13      CAN  48316.716527        1468\n",
              "19      JPN  40992.393230        1237\n",
              "20      KOR  40957.347064         992\n",
              "16      GBR  45757.778123         901\n",
              "36      MEX  19947.197691         579\n",
              "29      TUR  28193.061398         326\n",
              "41      IDN  11050.882373         268\n",
              "9       DEU  52952.897774         160"
            ]
          },
          "execution_count": 101,
          "metadata": {
            "tags": []
          },
          "output_type": "execute_result"
        }
      ],
      "source": [
        "result.head(10)"
      ]
    },
    {
      "cell_type": "markdown",
      "metadata": {
        "id": "mvFa7JNeNQ9K"
      },
      "source": [
        "재미있게도 한국 바로 다음 6위 이다. 당연한 얘기 이겠지만 각 국가와 각 도시의 스타벅스 매장 수는 연관성이 있음을 확실히 확인을 하였다. 하지만 여기서 주의를 해야 할 점은 국가별 기준으로 보았을때 사실 중국보다 10,000 여개 이상의 매장을 갖고 있다. 그럼에도 불구하고 도시별 기준에서는 중국이 미국을 뛰어 넘었는지 의문점을 갖을 수 있다. 다시 도시별 데이터를 살펴보자."
      ]
    },
    {
      "cell_type": "code",
      "execution_count": null,
      "metadata": {
        "colab": {
          "base_uri": "https://localhost:8080/",
          "height": 390
        },
        "id": "sPFUSNboJVEv",
        "outputId": "2b2716b4-18e9-47f3-ee40-b5fdd9b7bce6"
      },
      "outputs": [
        {
          "data": {
            "text/html": [
              "<div>\n",
              "<style scoped>\n",
              "    .dataframe tbody tr th:only-of-type {\n",
              "        vertical-align: middle;\n",
              "    }\n",
              "\n",
              "    .dataframe tbody tr th {\n",
              "        vertical-align: top;\n",
              "    }\n",
              "\n",
              "    .dataframe thead th {\n",
              "        text-align: right;\n",
              "    }\n",
              "</style>\n",
              "<table border=\"1\" class=\"dataframe\">\n",
              "  <thead>\n",
              "    <tr style=\"text-align: right;\">\n",
              "      <th></th>\n",
              "      <th>Store Number</th>\n",
              "      <th>City</th>\n",
              "    </tr>\n",
              "    <tr>\n",
              "      <th>City</th>\n",
              "      <th></th>\n",
              "      <th></th>\n",
              "    </tr>\n",
              "  </thead>\n",
              "  <tbody>\n",
              "    <tr>\n",
              "      <th>上海市</th>\n",
              "      <td>542</td>\n",
              "      <td>上海市</td>\n",
              "    </tr>\n",
              "    <tr>\n",
              "      <th>Seoul</th>\n",
              "      <td>242</td>\n",
              "      <td>Seoul</td>\n",
              "    </tr>\n",
              "    <tr>\n",
              "      <th>北京市</th>\n",
              "      <td>234</td>\n",
              "      <td>北京市</td>\n",
              "    </tr>\n",
              "    <tr>\n",
              "      <th>New York</th>\n",
              "      <td>232</td>\n",
              "      <td>New York</td>\n",
              "    </tr>\n",
              "    <tr>\n",
              "      <th>London</th>\n",
              "      <td>216</td>\n",
              "      <td>London</td>\n",
              "    </tr>\n",
              "    <tr>\n",
              "      <th>Toronto</th>\n",
              "      <td>192</td>\n",
              "      <td>Toronto</td>\n",
              "    </tr>\n",
              "    <tr>\n",
              "      <th>Mexico City</th>\n",
              "      <td>180</td>\n",
              "      <td>Mexico City</td>\n",
              "    </tr>\n",
              "    <tr>\n",
              "      <th>Chicago</th>\n",
              "      <td>180</td>\n",
              "      <td>Chicago</td>\n",
              "    </tr>\n",
              "    <tr>\n",
              "      <th>Seattle</th>\n",
              "      <td>156</td>\n",
              "      <td>Seattle</td>\n",
              "    </tr>\n",
              "    <tr>\n",
              "      <th>Las Vegas</th>\n",
              "      <td>156</td>\n",
              "      <td>Las Vegas</td>\n",
              "    </tr>\n",
              "  </tbody>\n",
              "</table>\n",
              "</div>"
            ],
            "text/plain": [
              "             Store Number         City\n",
              "City                                  \n",
              "上海市                   542          上海市\n",
              "Seoul                 242        Seoul\n",
              "北京市                   234          北京市\n",
              "New York              232     New York\n",
              "London                216       London\n",
              "Toronto               192      Toronto\n",
              "Mexico City           180  Mexico City\n",
              "Chicago               180      Chicago\n",
              "Seattle               156      Seattle\n",
              "Las Vegas             156    Las Vegas"
            ]
          },
          "execution_count": 102,
          "metadata": {
            "tags": []
          },
          "output_type": "execute_result"
        }
      ],
      "source": [
        "city_result_for_pie.head(10)"
      ]
    },
    {
      "cell_type": "markdown",
      "metadata": {
        "id": "Di3UCwwNOLii"
      },
      "source": [
        "보다 시피 미국은 주 단위로 끊어져서 나온다. 즉, 상하이 라는 하나의 시를 말하는 것이 아니라 하나의 주를 의미하여 자료상에서는 미국의 해당하는 도시별 데이터에서 적게 표시게 되는 것이다. 미국의 주가 현재 50개의 주 로 이루어져 있기 때문이다. 상위 10개 이외에도 최소 40여개 이상이 스타벅스가 있을 수 있다.\n",
        "\n",
        "간단히 말해 넓게 퍼져 있냐, 아니면 좁은데에 미어 터졌냐 이 차이라고 생각된다."
      ]
    },
    {
      "cell_type": "markdown",
      "metadata": {
        "id": "9Gaun4kuPUau"
      },
      "source": [
        "-----\n",
        "# 6. 마무리\n",
        "최종적으로 이번 프로젝트를 통해서 사실상 GDP (국가총생산량) 과 스타벅스 매장 수의 연계성은 아무런 관련이 없다는 것을 확인하였다. 또한 이번 프로젝트를 통해서 유럽권 국가들에 비해 아시아권, 북미권 국가들에 스타벅스 매장 비율이 더욱이 높음을 직접 확인하게 되었다. 도시별 연계성으로는 한 도시에 밀집되어 있는 경우가 많다는 것을 알게 되었고 주로 한국과 중국이 1,2,3위 권을 다툴 정도로 굉장히 심하게 밀집 되어 있음을 직접 확인 하였다.\n",
        "\n",
        "## 6-1. 느낀점\n",
        "### 박인성\n",
        "인공지능 프로젝트 등 Dataset를 활용한 프로젝트는 이전에도 종종 진행을 해보았지만 직접 데이터를 수정하고 다루면서 데이터를 분석하는 프로젝트를 진행 한것은 이번이 처음이라 재밌었다. 스타벅스와 GDP 의 연계성이라는 흥미로운 주제를 다루면서 서울에 얼마나 많은 스타벅스가 있는지 알게 되었고 나에게 다가 웠던 \"스타벅스가 일종의 경제성장의 상징\" 이라는 하나의 심볼을 깨주는 재미있고 흥미로운 프로젝트였다.\n",
        "\n",
        "### 김연규\n",
        "데이터셋을 갖고 프로젝트를 진행해본 적은 처음이었다. 이 프로젝트를 통해 가설을 세우고, 데이터셋을 통해 실험을하고, 그 가설을 검증하는 데이터 과학적인 요소가 매우 재미있었다. 비록 \"돈이 많은 나라일수록 스타벅스 매장 수가 많다\" 라는 가설은 틀린 것으로 나왔지만, 데이터 과학 프로젝트를 진행했다는것 만으로도 충분히 값진 경험이었다고 생각한다."
      ]
    }
  ],
  "metadata": {
    "language_info": {},
    "orig_nbformat": 3
  },
  "nbformat": 4,
  "nbformat_minor": 0
}